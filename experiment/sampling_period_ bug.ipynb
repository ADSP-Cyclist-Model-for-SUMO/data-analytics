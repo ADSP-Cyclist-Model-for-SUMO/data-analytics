{
 "cells": [
  {
   "cell_type": "code",
   "execution_count": null,
   "metadata": {},
   "outputs": [],
   "source": [
    "import importlib\n",
    "import ubx_parser\n",
    "from matplotlib import pyplot as plt\n",
    "import importer\n",
    "import math\n",
    "from pyproj import Proj\n",
    "import pandas as pd\n",
    "import numpy as np\n",
    "from sklearn.metrics import mean_squared_error as mse\n",
    "from geopy.distance import great_circle\n",
    "import utils\n",
    "from scipy.signal import butter,filtfilt\n",
    "\n"
   ]
  },
  {
   "cell_type": "code",
   "execution_count": null,
   "metadata": {},
   "outputs": [],
   "source": [
    "import importer\n",
    "import importlib\n",
    "importlib.reload(importer)\n",
    "\n",
    "\n",
    "path = './simra_records/'\n",
    "\n",
    "dfs = importer.import_files(path)"
   ]
  },
  {
   "cell_type": "code",
   "execution_count": null,
   "metadata": {},
   "outputs": [],
   "source": [
    "def find_velocity_spikes(df):\n",
    "    threshold = df['a'].std() * 0.8\n",
    "    print(df['a'].std(), threshold)\n",
    "\n",
    "    return ((df[~df.velo.isnull()]['a'] > threshold) & (df[~df.velo.isnull()].shift(-1)['a'] < -threshold))\n",
    "\n"
   ]
  },
  {
   "cell_type": "code",
   "execution_count": null,
   "metadata": {},
   "outputs": [],
   "source": [
    "df = dfs[2]  # exemplary ride used. Can be any.\n",
    "\n",
    "# preprocess code adapted from importer.py\n",
    "\n",
    "simplify = True\n",
    "g = 9.81\n",
    "\n",
    "df['G_raw'] = df.apply(lambda x: np.array([x['X'], x['Y'], x['Z']]), axis=1)\n",
    "\n",
    "df['date'] = utils.interpolate_dates(df, 'date')\n",
    "\n",
    "# cf = DataFrame with only Coord Entries\n",
    "cf = df[~df['date_raw'].isnull()]\n",
    "cf_shift = cf.shift(1)\n",
    "\n",
    "cf['l_lon'] = cf_shift['lon']\n",
    "cf['l_lat'] = cf_shift['lat']\n",
    "cf = cf[~cf['l_lon'].isnull()]\n",
    "cf['duration'] = (cf['date_raw'] - cf_shift['date_raw']).dt.total_seconds()\n",
    "cf['dist'] = cf.apply(lambda x: great_circle([x['l_lat'], x['l_lon']], [x['lat'], x['lon']]).meters, axis=1)\n",
    "cf['velo'] = cf['dist'] / cf['duration']\n",
    "\n",
    "cf_shift = cf.shift(1)\n",
    "\n",
    "cf['a'] = (cf['velo'] - cf_shift['velo']) / cf['duration']\n",
    "\n",
    "# cf = eliminate_velo_spikes(cf)\n",
    "\n",
    "# cf['a_abs'] = (cf['velo'] - cf.shift(1)['velo']) / cf['duration']\n",
    "\n",
    "proj = Proj('epsg:5243')\n",
    "\n",
    "proj_coords = cf.apply(lambda x: proj(x['lon'], x['lat']), axis=1)\n",
    "cf.loc[:, ['x', 'y']] = list(map(list, proj_coords))\n",
    "\n",
    "cf['dir_x'] = cf['x'] - cf.shift(1)['x']\n",
    "cf['dir_y'] = cf['y'] - cf.shift(1)['y']\n",
    "cf['velo_vec'] = cf.apply(lambda x: utils.resize_vector_to_one(np.array([x['dir_x'], x['dir_y']])) * x['velo'], axis=1)\n",
    "cf['a_wrld'] = cf.apply(\n",
    "    lambda x: np.nan_to_num(np.hstack([utils.resize_vector_to_one(np.array([x['dir_x'], x['dir_y']])) * x['a'], g])),\n",
    "    axis=1)\n",
    "\n",
    "cf['a_bike'] = cf.apply(lambda x: np.nan_to_num(np.array([x['a'], 0, g])), axis=1)\n",
    "\n",
    "df['duration'] = cf['duration']\n",
    "df['velo'] = cf['velo']\n",
    "df['velo_vec'] = cf['velo_vec']\n",
    "df['velo_vec'] = df['velo_vec'].fillna(method='bfill')\n",
    "df['a_bike'] = cf['a_bike']\n",
    "df['a'] = cf['a']\n",
    "df['a_wrld'] = cf['a_wrld']\n",
    "df['x'] = cf['x']\n",
    "df['y'] = cf['y']\n",
    "df['x'] = df['x'].interpolate()\n",
    "df['y'] = df['y'].interpolate()\n",
    "df['dist'] = cf['dist']\n",
    "\n",
    "df['G_size'] = df.apply(lambda x: np.linalg.norm(x['G_raw']), axis=1)\n",
    "\n",
    "first_velo_entry = df[~df['velo'].isnull()].iloc[0].id\n",
    "last_velo_entry = df[~df['velo'].isnull()].iloc[-1].id\n",
    "df_cut = df[first_velo_entry:last_velo_entry + 1]\n",
    "\n",
    "df_cut['a_bike'] = df_cut['a_bike'].fillna(method='backfill')\n",
    "df_cut['a_wrld'] = df_cut['a_wrld'].fillna(method='backfill')\n",
    "\n",
    "df_cut['a_size'] = df_cut.apply(lambda x: np.linalg.norm(x['a_bike']), axis=1)\n",
    "\n",
    "df_cut['spike'] = find_velocity_spikes(df_cut)\n",
    "\n",
    "df_cut['section'] = df_cut['spike'].cumsum()\n",
    "df_cut['section'] = df_cut.apply(lambda x: int(x['section']) if x['spike'] is False else -1, axis=1)\n",
    "\n",
    "if simplify:\n",
    "    df = df[~df['date_raw'].isnull()]\n",
    "    df = df.drop(['X', 'Y', 'Z', 'XL', 'YL', 'ZL', 'RX', 'RY', 'RZ', 'RC', 't_int', 'date_raw'], axis=1)    \n",
    "\n",
    "f = 250\n",
    "t = 300\n",
    "\n",
    "raw = df_cut.velo.dropna()[f:t].values\n",
    "indices = df_cut.id.dropna()[f:t].values\n",
    "#df_cut.a.dropna()[f:t].plot()\n",
    "k=9\n",
    "new = df_cut[df_cut.spike == False].velo.dropna()[f-k:t-k].values\n",
    "\n",
    "#df_cut[df_cut.spike == True]"
   ]
  },
  {
   "cell_type": "code",
   "execution_count": null,
   "metadata": {},
   "outputs": [],
   "source": [
    "raw = df_cut[['coord_index', 'velo']].dropna()[f:t].to_numpy()\n"
   ]
  },
  {
   "cell_type": "code",
   "execution_count": null,
   "metadata": {},
   "outputs": [],
   "source": [
    "new = df_cut[df_cut.spike == False][['coord_index', 'velo']].dropna()[f-k:t-k-2].to_numpy()\n"
   ]
  },
  {
   "cell_type": "code",
   "execution_count": null,
   "metadata": {},
   "outputs": [],
   "source": [
    "from matplotlib import rc\n",
    "\n",
    "plt.figure(figsize=(7, 7))\n",
    "rc('font', **{'family': 'serif', 'serif': ['Computer Modern'], 'size': 16})\n",
    "rc('text', usetex=True)\n",
    "plt.plot(raw[:,0], raw[:,1], alpha=0.7, label='Raw velocity profile')\n",
    "plt.plot(new[:,0], new[:,1], alpha=0.7, label='Filtered velocity profile')\n",
    "plt.ylabel('Velocity in m/s')\n",
    "plt.xlabel('Observation index')\n",
    "plt.legend()\n",
    "\n",
    "plt.savefig(\"images/velo_spike_finder.pdf\", bbox_inches='tight')\n",
    "\n"
   ]
  }
 ],
 "metadata": {
  "kernelspec": {
   "display_name": "Python 3",
   "language": "python",
   "name": "python3"
  },
  "language_info": {
   "codemirror_mode": {
    "name": "ipython",
    "version": 3
   },
   "file_extension": ".py",
   "mimetype": "text/x-python",
   "name": "python",
   "nbconvert_exporter": "python",
   "pygments_lexer": "ipython3"
  }
 },
 "nbformat": 4,
 "nbformat_minor": 4
}
