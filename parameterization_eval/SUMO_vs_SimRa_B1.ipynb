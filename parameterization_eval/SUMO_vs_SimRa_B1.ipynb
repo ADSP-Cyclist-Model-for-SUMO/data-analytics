{
 "cells": [
  {
   "cell_type": "code",
   "execution_count": 5,
   "metadata": {},
   "outputs": [],
   "source": [
    "import pandas as pd\n",
    "import matplotlib.pyplot as plt\n",
    "import numpy as np\n",
    "import psycopg2\n",
    "from postgis.psycopg import register\n",
    "from shapely.geometry import Point\n",
    "from shapely.geometry.polygon import Polygon\n",
    "from shapely.geometry import box\n",
    "import project_path\n",
    "from db_importer.settings import *\n",
    "import scipy.stats\n",
    "\n",
    "class DatabaseConnection(object):\n",
    "    def __enter__(self):\n",
    "        self.conn = psycopg2.connect(f\"dbname='{DB_NAME}' user='{DB_USER}' password='{DB_PASSWORD}' host='{DB_HOST}' port='{DB_PORT}'\")\n",
    "        self.conn.autocommit = True\n",
    "\n",
    "        register(self.conn)\n",
    "        self.cur = self.conn.cursor()\n",
    "\n",
    "        return self.cur\n",
    "\n",
    "    def __exit__(self, exc_type, exc_val, exc_tb):\n",
    "        if exc_tb is None:\n",
    "            self.conn.commit()\n",
    "            self.cur.close()\n",
    "            self.conn.close()\n",
    "        else:\n",
    "            self.conn.rollback()\n",
    "            self.cur.close()\n",
    "            self.conn.close()"
   ]
  },
  {
   "cell_type": "code",
   "execution_count": 6,
   "metadata": {},
   "outputs": [],
   "source": [
    "start_rect = box(13.4922, 52.5118, 13.4929, 52.5123)\n",
    "end_rect = box(13.4516, 52.516, 13.4523, 52.5163)\n",
    "\n",
    "def get_SUMO_durations(x):\n",
    "    mask_first = x.apply(lambda coord: start_rect.contains(Point(coord['vehicle_x'], coord['vehicle_y'])), axis=1)\n",
    "    mask_end = x.apply(lambda coord: end_rect.contains(Point(coord['vehicle_x'], coord['vehicle_y'])), axis=1)\n",
    "    vehicle_id = x.iloc[0].vehicle_id\n",
    "    try:\n",
    "        start = x[mask_first==True].iloc[0].timestep_time\n",
    "        end = x[mask_end==True].iloc[0].timestep_time\n",
    "        return (vehicle_id, end - start)\n",
    "    except: \n",
    "        return \n",
    "    "
   ]
  },
  {
   "cell_type": "code",
   "execution_count": 7,
   "metadata": {
    "scrolled": false
   },
   "outputs": [],
   "source": [
    "files= ['sim_data/b1_default.csv', 'sim_data/b1_default_ped.csv', 'sim_data/b1_new_params.csv', 'sim_data/b1_new_params_ped.csv']\n",
    "\n",
    "durations_arr = []\n",
    "\n",
    "for file in files:\n",
    "    df = pd.read_csv(file, delimiter=';')\n",
    "    if 'ped' in file:\n",
    "        df.columns = ['timestep_time', 'vehicle_angle', 'edge', 'vehicle_id',\n",
    "           'vehicle_pos', 'vehicle_slope', 'vehicle_speed', 'vehicle_x', 'vehicle_y']\n",
    "        df = df[df.vehicle_id.str.startswith('personFlow', na=False)]\n",
    "    else:\n",
    "        df = df[df.vehicle_id.str.startswith('flow', na=False)]\n",
    "    grouped = df.groupby('vehicle_id')\n",
    "    durations = grouped.apply(lambda x: get_SUMO_durations(x)[1]).dropna()\n",
    "    durations_arr.append(durations.values)"
   ]
  },
  {
   "cell_type": "code",
   "execution_count": 8,
   "metadata": {},
   "outputs": [
    {
     "name": "stdout",
     "output_type": "stream",
     "text": [
      "array\n",
      "array\n",
      "array\n"
     ]
    },
    {
     "data": {
      "text/plain": [
       "8.12270090619921"
      ]
     },
     "execution_count": 8,
     "metadata": {},
     "output_type": "execute_result"
    }
   ],
   "source": [
    "### cf. Thesis Table 6.2\n",
    "\n",
    "with DatabaseConnection() as cur:\n",
    "    cur.execute(\"\"\"SELECT\n",
    "            filename,\n",
    "            ST_AsGeoJSON(geom) :: json->'coordinates' AS coordinates,\n",
    "            timestamps,\n",
    "            velos\n",
    "        FROM ride\n",
    "        WHERE st_intersects(geom,\n",
    "            st_setsrid(st_makebox2d(st_makepoint(13.4922, 52.5118), st_makepoint(13.4929, 52.5123)), 4326))\n",
    "          AND st_intersects(geom, st_setsrid(st_makebox2d(st_makepoint(13.4516, 52.516), st_makepoint(13.4523, 52.5163)), 4326))\"\"\")\n",
    "    res = cur.fetchall()\n",
    "    df = pd.DataFrame(res, columns=['filename', 'coords', 'timestamps', 'velos'])\n",
    "    \n",
    "\n",
    "def get_ride_durations(arr):\n",
    "    coords = np.array(arr[0])\n",
    "    timestamps = np.array(arr[1])\n",
    "    first = None\n",
    "    last = None\n",
    "    for i, coord in enumerate(coords):\n",
    "        point = Point(coord[0],coord[1])\n",
    "        if (first is None) & start_rect.contains(point):\n",
    "            first = i\n",
    "            continue\n",
    "        if (first is not None) & end_rect.contains(point):\n",
    "            last = i\n",
    "            break\n",
    "    try:\n",
    "        res = (timestamps[last] - timestamps[first]).total_seconds()\n",
    "    except:\n",
    "        print('array')\n",
    "        res = None\n",
    "    return res\n",
    "\n",
    "\n",
    "def get_ride_v_max(arr):\n",
    "    coords = np.array(arr[0])\n",
    "    velos = np.array(arr[1])\n",
    "    first = None\n",
    "    last = None\n",
    "    for i, coord in enumerate(coords):\n",
    "        point = Point(coord[0],coord[1])\n",
    "        if (first is None) & start_rect.contains(point):\n",
    "            first = i\n",
    "            continue\n",
    "        if (first is not None) & end_rect.contains(point):\n",
    "            last = i\n",
    "            break\n",
    "    try:\n",
    "        res = np.max(np.nan_to_num(velos[first:last]))\n",
    "    except e:\n",
    "        raise e\n",
    "        print(e)\n",
    "        res = None\n",
    "    return res\n",
    "\n",
    "\n",
    "test = df.apply(lambda x: get_ride_durations(x[['coords', 'timestamps']].to_numpy()), axis=1)\n",
    "max_velos = df.apply(lambda x: get_ride_v_max(x[['coords', 'velos']].to_numpy()), axis=1)\n",
    "test[~test.isnull()].values\n",
    "\n",
    "np.mean(max_velos)"
   ]
  },
  {
   "cell_type": "code",
   "execution_count": 9,
   "metadata": {},
   "outputs": [],
   "source": [
    "durations_arr.append(test[~test.isnull()].values)"
   ]
  },
  {
   "cell_type": "code",
   "execution_count": 10,
   "metadata": {},
   "outputs": [
    {
     "name": "stdout",
     "output_type": "stream",
     "text": [
      "744.2333333333333\n"
     ]
    },
    {
     "data": {
      "image/png": "[encoded data removed]",
      "text/plain": [
       "<Figure size 720x720 with 1 Axes>"
      ]
     },
     "metadata": {
      "needs_background": "light"
     },
     "output_type": "display_data"
    }
   ],
   "source": [
    "plt.figure(figsize=(10,10))\n",
    "\n",
    "\n",
    "#plt.boxplot(durations)\n",
    "plt.boxplot(durations_arr)\n",
    "plt.xticks(np.arange(len(durations_arr)) + 1, ['default car', 'default ped', 'new Params car', 'new Params ped', 'SimRa'])\n",
    "plt.ylabel('duration for segment of B1')\n",
    "plt.ylim(0,900)\n",
    "plt.savefig('images/sim_B1.png', bbox_inches='tight')\n",
    "print(np.mean(durations_arr[1]))"
   ]
  },
  {
   "cell_type": "code",
   "execution_count": 13,
   "metadata": {},
   "outputs": [
    {
     "name": "stdout",
     "output_type": "stream",
     "text": [
      "Stored 'durations_b1' (list)\n"
     ]
    }
   ],
   "source": [
    "durations_b1 = durations_arr\n",
    "\n",
    "%store durations_b1"
   ]
  }
 ],
 "metadata": {
  "kernelspec": {
   "display_name": "Python 3",
   "language": "python",
   "name": "python3"
  },
  "language_info": {
   "codemirror_mode": {
    "name": "ipython",
    "version": 3
   },
   "file_extension": ".py",
   "mimetype": "text/x-python",
   "name": "python",
   "nbconvert_exporter": "python",
   "pygments_lexer": "ipython3",
   "version": "3.6.9"
  }
 },
 "nbformat": 4,
 "nbformat_minor": 4
}
