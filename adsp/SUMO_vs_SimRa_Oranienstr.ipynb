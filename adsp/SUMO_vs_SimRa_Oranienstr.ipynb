{
 "cells": [
  {
   "cell_type": "code",
   "execution_count": null,
   "metadata": {},
   "outputs": [],
   "source": [
    "from ast import literal_eval\n",
    "\n",
    "import pandas as pd\n",
    "import matplotlib.pyplot as plt\n",
    "\n",
    "from db_utils import get_rect_to_rect_data, DatabaseConnection"
   ]
  },
  {
   "cell_type": "code",
   "execution_count": null,
   "metadata": {},
   "outputs": [],
   "source": [
    "sumo_sim_file = \"./sim_data/oranienstr_new_params.csv\""
   ]
  },
  {
   "cell_type": "code",
   "execution_count": null,
   "metadata": {},
   "outputs": [],
   "source": [
    "start_rect_coords = (13.426,52.4991, 13.4264,52.4998)\n",
    "end_rect_coords = (13.4112,52.5031, 13.4117,52.5039)"
   ]
  },
  {
   "cell_type": "code",
   "execution_count": null,
   "metadata": {},
   "outputs": [],
   "source": [
    "with DatabaseConnection() as cur:\n",
    "    cur.execute(\"\"\"\n",
    "SELECT filename,\n",
    "       ST_AsGeoJSON(geom) :: json -> 'coordinates' AS coordinates,\n",
    "       timestamps,\n",
    "       velos\n",
    "FROM ride\n",
    "WHERE st_intersects(geom,\n",
    "                    st_setsrid( st_makebox2d( st_makepoint(13.4112,52.5031), st_makepoint(13.4117,52.5039)), 4326))\n",
    "                AND st_intersects(geom,\n",
    "                    st_setsrid( st_makebox2d( st_makepoint(13.426,52.4991), st_makepoint(13.4264,52.4998)), 4326))\"\"\")\n",
    "    res = cur.fetchall()\n",
    "    df = pd.DataFrame(res, columns=['filename', 'coords', 'timestamps', 'velos'])"
   ]
  },
  {
   "cell_type": "code",
   "execution_count": null,
   "metadata": {},
   "outputs": [],
   "source": [
    "df_simra_konst = df[['filename', 'timestamps', 'coords']]\n",
    "# df_simra_konst.explode(['timestamps', 'coords'], ignore_index=True)"
   ]
  },
  {
   "cell_type": "code",
   "execution_count": null,
   "metadata": {},
   "outputs": [],
   "source": [
    "df_simra = get_rect_to_rect_data(start_rect_coords, end_rect_coords)\n",
    "df_simra_paths = df_simra[['filename', 'ts', 'lon', 'lat']]\n",
    "df_simra_paths.rename({'filename': 'ride_id'}, axis='columns', inplace=True)"
   ]
  },
  {
   "cell_type": "code",
   "execution_count": null,
   "metadata": {},
   "outputs": [],
   "source": [
    "df_sumo = pd.read_csv(sumo_sim_file, delimiter=';')\n",
    "df_sumo_paths = df_sumo[['vehicle_id', 'timestep_time', 'vehicle_x', 'vehicle_y']]\n",
    "df_sumo_paths.rename({'vehicle_id': 'ride_id', 'timestep_time': 'ts', 'vehicle_x': 'lon', 'vehicle_y': 'lat'}, axis='columns', inplace=True)"
   ]
  },
  {
   "cell_type": "code",
   "execution_count": null,
   "metadata": {},
   "outputs": [],
   "source": [
    "import matplotlib.pyplot as plt\n",
    "from matplotlib import ticker\n",
    "from typing import Dict\n",
    "\n",
    "def plot_ride_paths(ride_data: Dict[str, pd.DataFrame]):\n",
    "    fig, ax = plt.subplots(figsize=(12, 12))\n",
    "    ax.set_aspect(1.5)\n",
    "    \n",
    "    colors = ['blue', 'orange', 'green', 'pink']\n",
    "\n",
    "    # plot rides for each dataframe\n",
    "    for data_idx, (data_name, df) in enumerate(ride_data.items()):\n",
    "        df_grouped = df.groupby('ride_id')\n",
    "        for ride_group_name in df_grouped.groups:\n",
    "            df_ride_group = df_grouped.get_group(ride_group_name)\n",
    "            ax.plot(df_ride_group.lon, df_ride_group.lat, color=colors[data_idx], label=data_name, linewidth=1)\n",
    "            # add labels to legend \n",
    "\n",
    "    x_min = min(min(df.lon) for df in ride_data.values())\n",
    "    x_max = max(max(df.lon) for df in ride_data.values())\n",
    "    y_min = min(min(df.lat) for df in ride_data.values())\n",
    "    y_max = max(max(df.lat) for df in ride_data.values())\n",
    "    ax.set_xlim(x_min, x_max)\n",
    "    ax.set_ylim(y_min, y_max)\n",
    "\n",
    "    ax.xaxis.set_major_locator(ticker.LinearLocator(4))\n",
    "    ax.xaxis.set_major_formatter(ticker.ScalarFormatter(useOffset=False))\n",
    "    ax.yaxis.set_major_locator(ticker.LinearLocator(4))\n",
    "    ax.yaxis.set_major_formatter(ticker.ScalarFormatter(useOffset=False))\n",
    "    ax.set_xlabel('Longitude in decimal degrees')\n",
    "    ax.set_ylabel('Latitude in decimal degrees')\n",
    "\n",
    "    # plt.savefig('simra_vs_sumo_ride_path.png', transparent=True)\n",
    "    plt.legend()\n",
    "    plt.show()"
   ]
  },
  {
   "cell_type": "code",
   "execution_count": null,
   "metadata": {},
   "outputs": [],
   "source": [
    "plot_ride_paths({'SUMO': df_sumo_paths, 'SimRa': df_simra_paths})"
   ]
  }
 ],
 "metadata": {
  "kernelspec": {
   "display_name": "adsp_ma-3.7.8",
   "language": "python",
   "name": "adsp_ma-3.7.8"
  },
  "language_info": {
   "codemirror_mode": {
    "name": "ipython",
    "version": 3
   },
   "file_extension": ".py",
   "mimetype": "text/x-python",
   "name": "python",
   "nbconvert_exporter": "python",
   "pygments_lexer": "ipython3"
  }
 },
 "nbformat": 4,
 "nbformat_minor": 4
}
