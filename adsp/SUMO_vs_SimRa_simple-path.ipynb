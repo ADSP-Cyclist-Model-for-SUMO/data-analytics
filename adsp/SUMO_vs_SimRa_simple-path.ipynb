{
 "cells": [
  {
   "cell_type": "code",
   "execution_count": null,
   "metadata": {},
   "outputs": [],
   "source": [
    "from ast import literal_eval\n",
    "from typing import Dict, List, Tuple\n",
    "\n",
    "import numpy as np\n",
    "import pandas as pd\n",
    "import matplotlib.pyplot as plt\n",
    "from matplotlib import ticker\n",
    "from sklearn.cluster import KMeans\n",
    "from shapely.geometry import box, Point\n",
    "\n",
    "from db_utils import get_rect_to_rect_data, DatabaseConnection"
   ]
  },
  {
   "cell_type": "code",
   "execution_count": null,
   "metadata": {},
   "outputs": [],
   "source": [
    "sumo_sim_file = \"./sim_data/prinzenstr_new_params.csv\""
   ]
  },
  {
   "cell_type": "code",
   "execution_count": null,
   "metadata": {},
   "outputs": [],
   "source": [
    "# Prinzenstr (Annenstr. to Moritzplatz)\n",
    "start_rect_coords = (13.413598,52.507573,13.414164,52.507822)\n",
    "end_rect_coords = (13.410895,52.504089,13.411461,52.504338)\n",
    "\n",
    "# Prinzenstr (Dresdener Str. to Sebastianstr.)\n",
    "# start_rect_coords = (13.412877,52.506571,13.413298,52.506765)\n",
    "# end_rect_coords = (13.411595,52.504951,13.412016,52.505145)"
   ]
  },
  {
   "cell_type": "code",
   "execution_count": null,
   "metadata": {},
   "outputs": [],
   "source": [
    "df_simra = get_rect_to_rect_data(start_rect_coords, end_rect_coords)\n",
    "df_simra_paths = df_simra[['filename', 'ts', 'lon', 'lat', 'velo', 'time_diff']]\n",
    "df_simra_paths.rename({'filename': 'ride_id', 'time_diff': 'duration'}, axis='columns', inplace=True)"
   ]
  },
  {
   "cell_type": "code",
   "execution_count": null,
   "metadata": {},
   "outputs": [],
   "source": [
    "df_sumo = pd.read_csv(sumo_sim_file, delimiter=';')\n",
    "df_sumo_paths = df_sumo[['vehicle_id', 'timestep_time', 'vehicle_x', 'vehicle_y', 'vehicle_speed']]\n",
    "df_sumo_paths.rename({'vehicle_id': 'ride_id', 'timestep_time': 'ts', 'vehicle_x': 'lon', 'vehicle_y': 'lat', 'vehicle_speed': 'velo'}, axis='columns', inplace=True)"
   ]
  },
  {
   "cell_type": "code",
   "execution_count": null,
   "metadata": {},
   "outputs": [],
   "source": [
    "n_rides = {'SUMO': len(df_sumo_paths.groupby('ride_id')), 'SimRa': len(df_simra_paths.groupby('ride_id'))}\n",
    "\n",
    "print(f\"Number of rides: {n_rides['SUMO']}\")"
   ]
  },
  {
   "cell_type": "code",
   "execution_count": null,
   "metadata": {},
   "outputs": [],
   "source": [
    "start_rect = box(*start_rect_coords)\n",
    "end_rect = box(*end_rect_coords)\n",
    "\n",
    "def get_indices_to_delete(ride_group):\n",
    "    \n",
    "    mask_first = ride_group.apply(lambda coord: start_rect.contains(Point(coord['lon'], coord['lat'])), axis=1)\n",
    "    mask_end = ride_group.apply(lambda coord: end_rect.contains(Point(coord['lon'], coord['lat'])), axis=1)    \n",
    "    try:\n",
    "        start_idx = mask_first[mask_first==True].index[0]\n",
    "        end_idx = mask_end[mask_end==True].index[-1]\n",
    "        return [idx for idx in ride_group.index if idx < start_idx or idx > end_idx]\n",
    "    except: \n",
    "        # probably vehicle (ride) does not arrive in end box because simulation ended beforehand\n",
    "        return list(ride_group.index)\n",
    "\n",
    "grouped = df_sumo_paths.groupby('ride_id')\n",
    "for _, ride_group in grouped:\n",
    "    indices_to_delete = get_indices_to_delete(ride_group)\n",
    "    df_sumo_paths.drop(index=get_indices_to_delete(ride_group), inplace=True)"
   ]
  },
  {
   "cell_type": "code",
   "execution_count": null,
   "metadata": {},
   "outputs": [],
   "source": [
    "df_simra_paths.velo.hist(density=True)"
   ]
  },
  {
   "cell_type": "code",
   "execution_count": null,
   "metadata": {},
   "outputs": [],
   "source": [
    "df_sumo_paths.velo.hist(density=True, color='orange')"
   ]
  },
  {
   "cell_type": "code",
   "execution_count": null,
   "metadata": {},
   "outputs": [],
   "source": [
    "def plot_ride_paths(ride_data: Dict[str, pd.DataFrame]):\n",
    "    fig, ax = plt.subplots(figsize=(12, 12))\n",
    "    ax.set_aspect(1.5)\n",
    "    \n",
    "    colors = ['blue', 'orange', 'green', 'pink']\n",
    "\n",
    "    # plot rides for each dataframe\n",
    "    for data_idx, (data_name, df) in enumerate(ride_data.items()):\n",
    "        df_grouped = df.groupby('ride_id')\n",
    "        for ride_group_name in df_grouped.groups:\n",
    "            df_ride_group = df_grouped.get_group(ride_group_name)\n",
    "            ax.plot(df_ride_group.lon, df_ride_group.lat, color=colors[data_idx], label=data_name, linewidth=1)\n",
    "            # add labels to legend\n",
    "\n",
    "    ax.xaxis.set_major_locator(ticker.LinearLocator(4))\n",
    "    ax.xaxis.set_major_formatter(ticker.ScalarFormatter(useOffset=False))\n",
    "    ax.yaxis.set_major_locator(ticker.LinearLocator(4))\n",
    "    ax.yaxis.set_major_formatter(ticker.ScalarFormatter(useOffset=False))\n",
    "    ax.set_xlabel('Longitude in decimal degrees')\n",
    "    ax.set_ylabel('Latitude in decimal degrees')\n",
    "\n",
    "    # plt.savefig('simra_vs_sumo_ride_path.png', transparent=True)\n",
    "    # plt.legend()\n",
    "    plt.show()"
   ]
  },
  {
   "cell_type": "code",
   "execution_count": null,
   "metadata": {},
   "outputs": [],
   "source": [
    "ride_data = {'SimRa': df_simra_paths, 'SUMO': df_sumo_paths}"
   ]
  },
  {
   "cell_type": "code",
   "execution_count": null,
   "metadata": {},
   "outputs": [],
   "source": [
    "plot_ride_paths(ride_data)"
   ]
  },
  {
   "cell_type": "code",
   "execution_count": null,
   "metadata": {},
   "outputs": [],
   "source": [
    "sumo_path_durations = list(df_sumo_paths.groupby('ride_id').ts.agg(np.ptp))\n",
    "simra_path_durations = [td.total_seconds() for td in df_simra_paths.groupby('ride_id').first().duration]"
   ]
  },
  {
   "cell_type": "code",
   "execution_count": null,
   "metadata": {},
   "outputs": [],
   "source": [
    "plt.hist(sumo_path_durations, color='orange', density=True, bins=10);\n",
    "plt.hist(simra_path_durations, color='blue', alpha=0.5, density=True, bins=60);\n",
    "plt.xlim(0, 100);\n"
   ]
  }
 ],
 "metadata": {
  "kernelspec": {
   "display_name": "adsp_ma-3.7.8",
   "language": "python",
   "name": "adsp_ma-3.7.8"
  },
  "language_info": {
   "codemirror_mode": {
    "name": "ipython",
    "version": 3
   },
   "file_extension": ".py",
   "mimetype": "text/x-python",
   "name": "python",
   "nbconvert_exporter": "python",
   "pygments_lexer": "ipython3"
  }
 },
 "nbformat": 4,
 "nbformat_minor": 4
}
