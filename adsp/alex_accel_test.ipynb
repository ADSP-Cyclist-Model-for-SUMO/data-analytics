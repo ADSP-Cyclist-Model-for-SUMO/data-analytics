{
 "cells": [
  {
   "cell_type": "code",
   "execution_count": null,
   "metadata": {},
   "outputs": [],
   "source": [
    "import numpy as np\n",
    "import pandas as pd\n",
    "import matplotlib.pyplot as plt\n",
    "from matplotlib import ticker\n",
    "from matplotlib.collections import LineCollection\n",
    "\n",
    "from utils import DatabaseConnection"
   ]
  },
  {
   "cell_type": "code",
   "execution_count": null,
   "metadata": {},
   "outputs": [],
   "source": [
    "from shapely.geometry import Point\n",
    "from shapely.geometry import box\n",
    "\n",
    "start_rect = box(13.416354, 52.521752, 13.416705, 52.521961)\n",
    "end_rect = box(13.416912, 52.522261, 13.417263, 52.52247)\n",
    "\n",
    "def crop_intersection_SimRa(x):\n",
    "    mask_first = x.coords.apply(lambda x: start_rect.contains(Point(x)))\n",
    "    mask_end = x.coords.apply(lambda x: end_rect.contains(Point(x)))\n",
    "    try:\n",
    "        first = mask_first[mask_first==True].index[0]\n",
    "        last = mask_end[mask_end==True].index[-1]\n",
    "        return x.loc[first:last]\n",
    "    except:\n",
    "        print('check')\n",
    "        \n",
    "def to_float_arr(x):\n",
    "    res = []\n",
    "    for c in x:\n",
    "        res.append(float(c))\n",
    "    return res\n"
   ]
  },
  {
   "cell_type": "code",
   "execution_count": null,
   "metadata": {},
   "outputs": [],
   "source": [
    "ped_files = ['VM2_-2112701535', 'VM2_-217686115','VM2_-1247665811','VM2_-104300786', 'VM2_330973206', 'VM2_1100569031', 'VM2_421371629', 'VM2_421371629', 'VM2_1476499235', 'VM2_-1451152685', 'VM2_-1523872256']\n",
    "\n",
    "\n",
    "with DatabaseConnection() as cur:\n",
    "    cur.execute(\"\"\"\n",
    "SELECT filename,\n",
    "       json_array_elements_text(st_asgeojson(geom_raw) :: json -> 'coordinates') AS coordinates,\n",
    "       unnest(timestamps)                             timestamps,\n",
    "       unnest(velos)                                  velos\n",
    "FROM ride\n",
    "where st_intersects(geom, st_setsrid(\n",
    "        st_makebox2d(st_makepoint(13.416354, 52.521752), st_makepoint(13.416705, 52.521961)), 4326))\n",
    "  AND st_intersects(geom, st_setsrid(\n",
    "        st_makebox2d(st_makepoint(13.416912, 52.522261), st_makepoint(13.417263, 52.52247)), 4326))\n",
    "  AND timestamps[1] < '2021-01-01 00:00:00'\"\"\")\n",
    "    res = cur.fetchall()\n",
    "    df = pd.DataFrame(res, columns=['filename', 'coords', 'timestamps', 'velos'])\n",
    "    df = df[~df.coords.isnull()]\n",
    "    df = df[~df['filename'].isin(ped_files)]\n",
    "    df.coords = df.coords.apply(lambda x: x.replace('[', '').replace(']', '').split(','))\n",
    "    df.coords = df.coords.apply(lambda x: to_float_arr(x))\n",
    "    \n",
    "    grouped = df.groupby('filename', as_index=False)\n",
    "    df_simra = grouped.apply(lambda x: crop_intersection_SimRa(x))\n"
   ]
  },
  {
   "cell_type": "code",
   "execution_count": null,
   "metadata": {},
   "outputs": [],
   "source": [
    "# from matplotlib import rc\n",
    "\n",
    "# rc('font', **{'family': 'serif', 'serif': ['Computer Modern'], 'size': 16})\n",
    "# rc('text', usetex=True)"
   ]
  },
  {
   "cell_type": "code",
   "execution_count": null,
   "metadata": {},
   "outputs": [],
   "source": [
    "df_simra"
   ]
  },
  {
   "cell_type": "code",
   "execution_count": null,
   "metadata": {},
   "outputs": [],
   "source": [
    "df_simra['lon'], df_simra['lat'] = zip(*df_simra.coords.values)\n",
    "\n",
    "fig, ax = plt.subplots(figsize=(12, 12))\n",
    "ax.set_aspect('equal')\n",
    "# Create a continuous norm to map from data points to colors\n",
    "norm = plt.Normalize(df_simra.velos.min(), df_simra.velos.max())\n",
    "\n",
    "df_simra_grouped = df_simra.groupby('filename')\n",
    "for ride_group_name in df_simra_grouped.groups:\n",
    "    df_ride_group = df_simra_grouped.get_group(ride_group_name)\n",
    "    points = np.array([df_ride_group.lon, df_ride_group.lat]).T.reshape(-1, 1, 2)\n",
    "    segments = np.concatenate([points[:-1], points[1:]], axis=1)\n",
    "\n",
    "    lc = LineCollection(segments, cmap='viridis', norm=norm)\n",
    "    # Set the values used for colormapping\n",
    "    lc.set_array(df_ride_group.velos.values)\n",
    "    lc.set_linewidth(2)\n",
    "    line = ax.add_collection(lc)\n",
    "\n",
    "ax.set_xlim(min(df_simra.lon), max(df_simra.lon))\n",
    "ax.set_ylim(min(df_simra.lat), max(df_simra.lat))\n",
    "\n",
    "axcb = fig.colorbar(lc, ax=ax, shrink=0.8, pad=0.1)\n",
    "axcb.set_label('Velocity in m/s')\n",
    "\n",
    "ax.xaxis.set_major_locator(ticker.LinearLocator(4))\n",
    "ax.xaxis.set_major_formatter(ticker.ScalarFormatter(useOffset=False))\n",
    "ax.yaxis.set_major_locator(ticker.LinearLocator(4))\n",
    "ax.yaxis.set_major_formatter(ticker.ScalarFormatter(useOffset=False))\n",
    "ax.set_xlabel('Longitude in decimal degrees')\n",
    "ax.set_ylabel('Latitude in decimal degrees')\n",
    "\n",
    "\n",
    "plt.show()\n"
   ]
  }
 ],
 "metadata": {
  "kernelspec": {
   "display_name": "adsp_ma-3.7.8",
   "language": "python",
   "name": "adsp_ma-3.7.8"
  },
  "language_info": {
   "codemirror_mode": {
    "name": "ipython",
    "version": 3
   },
   "file_extension": ".py",
   "mimetype": "text/x-python",
   "name": "python",
   "nbconvert_exporter": "python",
   "pygments_lexer": "ipython3"
  }
 },
 "nbformat": 4,
 "nbformat_minor": 4
}
