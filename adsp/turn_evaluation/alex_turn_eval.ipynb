{
 "cells": [
  {
   "cell_type": "code",
   "execution_count": null,
   "metadata": {},
   "outputs": [],
   "source": [
    "import sys\n",
    "# add parent directory and its parent to sys.path so that python finds the modules\n",
    "sys.path.append('..')\n",
    "sys.path.append('../..')\n",
    "\n",
    "from datetime import datetime\n",
    "\n",
    "import pandas as pd\n",
    "from sklearn.cluster import KMeans\n",
    "from sklearn.preprocessing import MinMaxScaler\n",
    "import numpy as np\n",
    "import seaborn as sns\n",
    "import matplotlib.pyplot as plt\n",
    "\n",
    "from db_utils import get_rect_to_rect_data\n",
    "from cluster_utils import cluster_by_max_projection_and_distance"
   ]
  },
  {
   "cell_type": "code",
   "execution_count": null,
   "metadata": {},
   "outputs": [],
   "source": [
    "plt.rcParams.update({\n",
    "    \"figure.facecolor\":  'white', \n",
    "    \"axes.facecolor\":    'white', \n",
    "    \"savefig.facecolor\": 'white', \n",
    "})"
   ]
  },
  {
   "cell_type": "code",
   "execution_count": null,
   "metadata": {},
   "outputs": [],
   "source": [
    "def analyse_df_for_faulty_entries(df_simra, show_faulty_entries = False):\n",
    "    \n",
    "    # Some entries contain nans, or no speed, even though a distance is given. Inspect further. Option for filtering or preprocessing.\n",
    "\n",
    "    faulty_entries = df_simra[((df_simra.velo == 0) | (df_simra.velo.isna())) & (df_simra.dist != 0.0)]\n",
    "\n",
    "    n_entries = len(df_simra)\n",
    "    n_faulty_entries = len(faulty_entries) \n",
    "    percentage_faulty = n_faulty_entries / n_entries * 100\n",
    "\n",
    "    print(f'Number of faulty rows (velocity is nan or zero even though distance is given): {n_faulty_entries}')\n",
    "    print(f'Total rows: {n_entries}')\n",
    "    print(f'Share of faulty rows: {round(percentage_faulty,2)}%.')\n",
    "\n",
    "    if show_faulty_entries: display(faulty_entries)"
   ]
  },
  {
   "cell_type": "code",
   "execution_count": null,
   "metadata": {},
   "outputs": [],
   "source": [
    "def cluster_and_plot_for_intersection(start_end_coords, end_date_str = '2099-01-01 00:00:00', files_to_exclude = None, **kwargs):\n",
    "    end_date = datetime.strptime(end_date_str, '%Y-%m-%d %H:%M:%S')\n",
    "    for direction, (start_coord, end_coord) in start_end_coords.items():\n",
    "        print('######## ' + direction + ' ########')\n",
    "        print('Start:', start_coord)\n",
    "        print('End:', end_coord)\n",
    "        df_simra = get_rect_to_rect_data(start_coord, end_coord, end_date=end_date, files_to_exclude=files_to_exclude)\n",
    "        for key, value in kwargs.items():\n",
    "            if key == 'analyse_for_faulty_entries':\n",
    "                analyse_df_for_faulty_entries(df_simra)\n",
    "        cluster_by_max_projection_and_distance(df_simra, direction = direction)\n",
    "        print('\\n')"
   ]
  },
  {
   "cell_type": "code",
   "execution_count": null,
   "metadata": {},
   "outputs": [],
   "source": [
    "# use data until ..\n",
    "end_date_str = '2023-01-01 00:00:00'\n",
    "end_date = datetime.strptime(end_date_str, '%Y-%m-%d %H:%M:%S')"
   ]
  },
  {
   "cell_type": "code",
   "execution_count": null,
   "metadata": {},
   "outputs": [],
   "source": [
    "# files you want to exclude, e.g. because they use the pedestrian way\n",
    "files_to_exclude = ['VM2_-2112701535', 'VM2_-217686115','VM2_-1247665811','VM2_-104300786', 'VM2_330973206', 'VM2_1100569031', 'VM2_421371629', 'VM2_421371629', 'VM2_1476499235', 'VM2_-1451152685', 'VM2_-1523872256']"
   ]
  },
  {
   "cell_type": "code",
   "execution_count": null,
   "metadata": {},
   "outputs": [],
   "source": [
    "start_end_coords = {\n",
    "    'Alexanderstr. onto Alexanderstr. (south to west)':\n",
    "    (\n",
    "        (13.416169,52.521508,13.416513,52.521832),\n",
    "        (13.41591,52.522275,13.416421,52.522569)\n",
    "    ),    \n",
    "        'Karl-Marx-Allee onto Alexanderstr. (east to south)':\n",
    "    (\n",
    "        (13.41673,52.5219,13.417469,52.522088),\n",
    "        (13.416021,52.521813,13.416321,52.52203)\n",
    "        # (13.415876,52.521774,13.416321,52.52203) # larger endbox\n",
    "    )\n",
    "}"
   ]
  },
  {
   "cell_type": "code",
   "execution_count": null,
   "metadata": {},
   "outputs": [],
   "source": [
    "cluster_and_plot_for_intersection(start_end_coords)"
   ]
  }
 ],
 "metadata": {
  "interpreter": {
   "hash": "02d848c338eb765f35e5e5459aefb8cb1903bf377faae0bb83abd687bc8f2340"
  },
  "kernelspec": {
   "display_name": "adsp_ma-3.7.8",
   "language": "python",
   "name": "python3"
  },
  "language_info": {
   "codemirror_mode": {
    "name": "ipython",
    "version": 3
   },
   "file_extension": ".py",
   "mimetype": "text/x-python",
   "name": "python",
   "nbconvert_exporter": "python",
   "pygments_lexer": "ipython3"
  }
 },
 "nbformat": 4,
 "nbformat_minor": 4
}
