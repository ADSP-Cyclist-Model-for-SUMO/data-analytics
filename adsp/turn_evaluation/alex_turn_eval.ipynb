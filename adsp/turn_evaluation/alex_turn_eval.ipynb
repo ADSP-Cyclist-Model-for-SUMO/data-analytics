{
 "cells": [
  {
   "cell_type": "code",
   "execution_count": null,
   "metadata": {},
   "outputs": [],
   "source": [
    "import sys\n",
    "# add parent directory and its parent to sys.path so that python finds the modules\n",
    "sys.path.append('..')\n",
    "sys.path.append('../..')\n",
    "\n",
    "from datetime import datetime\n",
    "\n",
    "# import pandas as pd\n",
    "# from sklearn.cluster import KMeans\n",
    "# from sklearn.preprocessing import MinMaxScaler\n",
    "# import numpy as np\n",
    "# import seaborn as sns\n",
    "import matplotlib.pyplot as plt\n",
    "\n",
    "from db_utils import get_rect_to_rect_data\n",
    "# from cluster_utils import cluster_by_max_projection_and_distance\n",
    "from cluster_utils import cluster_and_plot_for_intersection"
   ]
  },
  {
   "cell_type": "code",
   "execution_count": null,
   "metadata": {},
   "outputs": [],
   "source": [
    "plt.rcParams.update({\n",
    "    \"figure.facecolor\":  'white', \n",
    "    \"axes.facecolor\":    'white', \n",
    "    \"savefig.facecolor\": 'white', \n",
    "})"
   ]
  },
  {
   "cell_type": "code",
   "execution_count": null,
   "metadata": {},
   "outputs": [],
   "source": [
    "# use data until ..\n",
    "end_date_str = '2023-01-01 00:00:00'\n",
    "end_date = datetime.strptime(end_date_str, '%Y-%m-%d %H:%M:%S')"
   ]
  },
  {
   "cell_type": "code",
   "execution_count": null,
   "metadata": {},
   "outputs": [],
   "source": [
    "# files you want to exclude, e.g. because they use the pedestrian way\n",
    "files_to_exclude = ['VM2_-2112701535', 'VM2_-217686115','VM2_-1247665811','VM2_-104300786', 'VM2_330973206', 'VM2_1100569031', 'VM2_421371629', 'VM2_421371629', 'VM2_1476499235', 'VM2_-1451152685', 'VM2_-1523872256']"
   ]
  },
  {
   "cell_type": "code",
   "execution_count": null,
   "metadata": {},
   "outputs": [],
   "source": [
    "start_end_coords = {\n",
    "    'Otto-Braun-Str. onto Karl-Marx-Allee (north to east)':\n",
    "    (\n",
    "        (13.416448,52.522311,13.416889,52.522671),\n",
    "        (13.416743,52.521404,13.417205,52.521852)\n",
    "    ),\n",
    "     'Karl-Marx-Allee onto Alexanderstr. (east to south)':\n",
    "    (\n",
    "        (13.41673,52.5219,13.417469,52.522088),\n",
    "        (13.416021,52.521813,13.416321,52.52203)\n",
    "        # (13.415876,52.521774,13.416321,52.52203) # larger endbox\n",
    "    ),\n",
    "    'Alexanderstr. onto Alexanderstr. (south to west)':\n",
    "    (\n",
    "        (13.416169,52.521508,13.416513,52.521832),\n",
    "        (13.41591,52.522275,13.416421,52.522569)\n",
    "    ),    \n",
    "    'Alexanderstr. onto Otto-Braun-Str. (west to north)':\n",
    "    (\n",
    "        (13.415638,52.522086,13.415982,52.522299),\n",
    "        (13.41685,52.52219,13.417194,52.522403)\n",
    "    )\n",
    "\n",
    "}"
   ]
  },
  {
   "cell_type": "code",
   "execution_count": null,
   "metadata": {},
   "outputs": [],
   "source": [
    "cluster_and_plot_for_intersection(start_end_coords, figsize_paths=(8,8))"
   ]
  }
 ],
 "metadata": {
  "interpreter": {
   "hash": "02d848c338eb765f35e5e5459aefb8cb1903bf377faae0bb83abd687bc8f2340"
  },
  "kernelspec": {
   "display_name": "adsp_ma-3.7.8",
   "language": "python",
   "name": "python3"
  },
  "language_info": {
   "codemirror_mode": {
    "name": "ipython",
    "version": 3
   },
   "file_extension": ".py",
   "mimetype": "text/x-python",
   "name": "python",
   "nbconvert_exporter": "python",
   "pygments_lexer": "ipython3"
  }
 },
 "nbformat": 4,
 "nbformat_minor": 4
}
