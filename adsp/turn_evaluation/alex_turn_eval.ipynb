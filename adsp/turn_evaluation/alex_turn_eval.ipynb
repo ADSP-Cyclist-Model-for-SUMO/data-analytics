{
 "cells": [
  {
   "cell_type": "code",
   "execution_count": null,
   "metadata": {},
   "outputs": [],
   "source": [
    "from datetime import datetime\n",
    "\n",
    "import pandas as pd\n",
    "from sklearn.cluster import KMeans\n",
    "from sklearn.preprocessing import MinMaxScaler\n",
    "import numpy as np\n",
    "import seaborn as sns\n",
    "import matplotlib.pyplot as plt\n",
    "\n",
    "from db_utils import get_rect_to_rect_data\n",
    "from cluster_utils import cluster_by_max_projection_and_distance"
   ]
  },
  {
   "cell_type": "code",
   "execution_count": null,
   "metadata": {},
   "outputs": [],
   "source": [
    "ped_files = ['VM2_-2112701535', 'VM2_-217686115','VM2_-1247665811','VM2_-104300786', 'VM2_330973206', 'VM2_1100569031', 'VM2_421371629', 'VM2_421371629', 'VM2_1476499235', 'VM2_-1451152685', 'VM2_-1523872256']"
   ]
  },
  {
   "cell_type": "code",
   "execution_count": null,
   "metadata": {},
   "outputs": [],
   "source": [
    "# from alexanderstr onto alexanderstr, south to west --> 255 rides\n",
    "start_rect_coords = (13.416169,52.521508,13.416513,52.521832)\n",
    "end_rect_coords = (13.41591,52.522275,13.416421,52.522569)\n",
    "\n",
    "# from karl-marx onto alexanderstr, east to south --> 20 rides\n",
    "# start_rect_coords = (13.41673,52.5219,13.417469,52.522088)\n",
    "# end_rect_coords = (13.416021,52.521813,13.416321,52.52203)\n",
    "# end_rect_coords = (13.415876,52.521774,13.416321,52.52203) # larger endbox\n",
    "\n",
    "end_date_str = '2020-01-01 00:00:00'\n",
    "end_date = datetime.strptime(end_date_str, '%Y-%m-%d %H:%M:%S')\n",
    "\n",
    "# df_simra = get_rect_to_rect_data(start_rect_coords, end_rect_coords, end_date=end_date, files_to_exclude=ped_files)\n",
    "# df_simra = get_rect_to_rect_data(start_rect_coords, end_rect_coords, end_date=end_date, files_to_exclude=None)\n",
    "df_simra = get_rect_to_rect_data(start_rect_coords, end_rect_coords, files_to_exclude=ped_files)"
   ]
  },
  {
   "cell_type": "code",
   "execution_count": null,
   "metadata": {},
   "outputs": [],
   "source": [
    "# Some entries contain nans, or no speed, even though a distance is given. Inspect further. Option for filtering or preprocessing.\n",
    "\n",
    "# df_simra.loc[(df_simra==0).any(axis=1)]\n",
    "# df_simra.loc[(df_simra.isna()).any(axis=1)]\n",
    "\n",
    "# df_simra[(df_simra.velo == 0) | (df_simra.velo.isna())]\n",
    "df_simra[((df_simra.velo == 0) | (df_simra.velo.isna())) & (df_simra.dist != 0.0)]"
   ]
  },
  {
   "cell_type": "code",
   "execution_count": null,
   "metadata": {},
   "outputs": [],
   "source": [
    "cluster_by_max_projection_and_distance(df_simra)"
   ]
  }
 ],
 "metadata": {
  "interpreter": {
   "hash": "f903ae77537726cbc8683684635e37cba0c75e348e6bb3378fc1072df3c68a6e"
  },
  "kernelspec": {
   "display_name": "adsp_ma-3.7.8",
   "language": "python",
   "name": "adsp_ma-3.7.8"
  },
  "language_info": {
   "codemirror_mode": {
    "name": "ipython",
    "version": 3
   },
   "file_extension": ".py",
   "mimetype": "text/x-python",
   "name": "python",
   "nbconvert_exporter": "python",
   "pygments_lexer": "ipython3"
  }
 },
 "nbformat": 4,
 "nbformat_minor": 4
}
