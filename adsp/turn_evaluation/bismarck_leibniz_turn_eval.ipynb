{
 "cells": [
  {
   "cell_type": "code",
   "execution_count": null,
   "metadata": {},
   "outputs": [],
   "source": [
    "from datetime import datetime\n",
    "\n",
    "from db_utils import get_rect_to_rect_data\n",
    "from cluster_utils import cluster_by_max_projection_and_distance"
   ]
  },
  {
   "cell_type": "code",
   "execution_count": null,
   "metadata": {},
   "outputs": [],
   "source": [
    "# from bismarck onto leibniz, east to south --> 66 rides\n",
    "start_rect_coords = (13.314913,52.512157,13.315644,52.512375)\n",
    "end_rect_coords = (13.314462,52.511618,13.314807,52.512022)\n",
    "\n",
    "# from bismarck onto leibniz, west to north --> 7 rides\n",
    "# start_rect_coords = (13.314023,52.511924,13.314636,52.512129)\n",
    "# end_rect_coords = (13.314715,52.512248,13.315043,52.512619)\n",
    "\n",
    "# from leibniz onto bismarck, south to west --> no results\n",
    "# start_rect_coords = (13.314699,52.51167,13.31498,52.512028)\n",
    "# end_rect_coords = (13.314082,52.512114,13.314669,52.512289)\n",
    "\n",
    "# from leibniz onto bismarck, north to east --> no results\n",
    "# start_rect_coords = (13.314892,52.511974,13.315527,52.512162)\n",
    "# end_rect_coords = (13.31457,52.512248,13.314861,52.512583)\n",
    "\n",
    "end_date_str = '2020-01-01 00:00:00'\n",
    "end_date = datetime.strptime(end_date_str, '%Y-%m-%d %H:%M:%S')\n",
    "\n",
    "# df_simra = get_rect_to_rect_data(start_rect_coords, end_rect_coords, end_date=end_date, files_to_exclude=ped_files)\n",
    "# df_simra = get_rect_to_rect_data(start_rect_coords, end_rect_coords, end_date=end_date, files_to_exclude=None)\n",
    "df_simra = get_rect_to_rect_data(start_rect_coords, end_rect_coords)"
   ]
  },
  {
   "cell_type": "code",
   "execution_count": null,
   "metadata": {},
   "outputs": [],
   "source": [
    "# Some entries contain nans, or no speed, even though a distance is given. Inspect further. Option for filtering or preprocessing.\n",
    "\n",
    "# df_simra.loc[(df_simra==0).any(axis=1)]\n",
    "# df_simra.loc[(df_simra.isna()).any(axis=1)]\n",
    "\n",
    "# df_simra[(df_simra.velo == 0) | (df_simra.velo.isna())]\n",
    "df_simra[((df_simra.velo == 0) | (df_simra.velo.isna())) & (df_simra.dist != 0.0)]"
   ]
  },
  {
   "cell_type": "code",
   "execution_count": null,
   "metadata": {},
   "outputs": [],
   "source": [
    "cluster_by_max_projection_and_distance(df_simra)"
   ]
  }
 ],
 "metadata": {
  "interpreter": {
   "hash": "767d51c1340bd893661ea55ea3124f6de3c7a262a8b4abca0554b478b1e2ff90"
  },
  "kernelspec": {
   "display_name": "adsp_ma-3.7.8",
   "language": "python",
   "name": "adsp_ma-3.7.8"
  },
  "language_info": {
   "codemirror_mode": {
    "name": "ipython",
    "version": 3
   },
   "file_extension": ".py",
   "mimetype": "text/x-python",
   "name": "python",
   "nbconvert_exporter": "python",
   "pygments_lexer": "ipython3"
  }
 },
 "nbformat": 4,
 "nbformat_minor": 4
}
