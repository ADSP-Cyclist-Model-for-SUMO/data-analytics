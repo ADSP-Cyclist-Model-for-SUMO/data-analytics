{
 "cells": [
  {
   "cell_type": "code",
   "execution_count": null,
   "metadata": {},
   "outputs": [],
   "source": [
    "from datetime import datetime\n",
    "\n",
    "import pandas as pd\n",
    "from sklearn.cluster import KMeans\n",
    "import numpy as np\n",
    "import seaborn as sns\n",
    "import matplotlib.pyplot as plt\n",
    "\n",
    "from db_utils import get_rect_to_rect_data"
   ]
  },
  {
   "cell_type": "code",
   "execution_count": null,
   "metadata": {},
   "outputs": [],
   "source": [
    "ped_files = ['VM2_-2112701535', 'VM2_-217686115','VM2_-1247665811','VM2_-104300786', 'VM2_330973206', 'VM2_1100569031', 'VM2_421371629', 'VM2_421371629', 'VM2_1476499235', 'VM2_-1451152685', 'VM2_-1523872256']"
   ]
  },
  {
   "cell_type": "code",
   "execution_count": null,
   "metadata": {},
   "outputs": [],
   "source": [
    "start_rect_coords = (13.416257,52.521664,13.416462,52.521793)\n",
    "end_rect_coords = (13.416026,52.522284,13.416231,52.522413)\n",
    "\n",
    "end_date_str = '2021-01-01 00:00:00'\n",
    "end_date = datetime.strptime(end_date_str, '%Y-%m-%d %H:%M:%S')\n",
    "\n",
    "df_simra = get_rect_to_rect_data(start_rect_coords, end_rect_coords, end_date=end_date, files_to_exclude=ped_files)"
   ]
  },
  {
   "cell_type": "code",
   "execution_count": null,
   "metadata": {},
   "outputs": [],
   "source": [
    "# Filtering needed!\n",
    "\n",
    "# df_simra.loc[(df_simra==0).any(axis=1)]\n",
    "# df_simra.loc[(df_simra.isna()).any(axis=1)]\n",
    "df_simra[(df_simra.velo == 0) | (df_simra.velo.isna())]\n",
    "\n",
    "df_simra[((df_simra.velo == 0) | (df_simra.velo.isna())) & (df_simra.dist != 0.0)]"
   ]
  },
  {
   "cell_type": "code",
   "execution_count": null,
   "metadata": {},
   "outputs": [],
   "source": [
    "df_simra_grouped = df_simra.groupby('filename').agg({'velo': 'mean', 'dist': 'sum'})\n",
    "df_simra_grouped"
   ]
  },
  {
   "cell_type": "code",
   "execution_count": null,
   "metadata": {},
   "outputs": [],
   "source": [
    "N_CLUSTERS = 2\n",
    "kmeans = KMeans(n_clusters=N_CLUSTERS, random_state=0)\n",
    "\n",
    "dists = np.array(df_simra_grouped.dist).reshape(-1, 1)\n",
    "dist_cluster_labels = kmeans.fit_predict(dists)\n",
    "dist_cluster_centers = kmeans.cluster_centers_\n",
    "\n",
    "sns.stripplot(x=[x_ for x_, label in zip(dists, dist_cluster_labels) if label == 0], color='blue')\n",
    "sns.stripplot(x=[x_ for x_, label in zip(dists, dist_cluster_labels) if label == 1], color='orange')\n",
    "sns.stripplot(x=dist_cluster_centers, color='red', size=10, jitter=False)"
   ]
  },
  {
   "cell_type": "code",
   "execution_count": null,
   "metadata": {},
   "outputs": [],
   "source": [
    "N_CLUSTERS = 2\n",
    "kmeans = KMeans(n_clusters=N_CLUSTERS, random_state=0)\n",
    "\n",
    "velos = np.array(df_simra_grouped.velo).reshape(-1, 1)\n",
    "velo_cluster_labels = kmeans.fit_predict(velos)\n",
    "velo_cluster_centers = kmeans.cluster_centers_\n",
    "\n",
    "sns.stripplot(x=[x_ for x_, label in zip(velos, velo_cluster_labels) if label == 0], color='blue')\n",
    "sns.stripplot(x=[x_ for x_, label in zip(velos, velo_cluster_labels) if label == 1], color='orange')\n",
    "sns.stripplot(x=velo_cluster_centers, color='red', size=10, jitter=False)"
   ]
  },
  {
   "cell_type": "code",
   "execution_count": null,
   "metadata": {},
   "outputs": [],
   "source": [
    "import matplotlib.pyplot as plt\n",
    "from matplotlib import ticker\n",
    "from matplotlib.collections import LineCollection\n",
    "\n",
    "fig, ax = plt.subplots(figsize=(12, 12))\n",
    "ax.set_aspect('equal')\n",
    "# Create a continuous norm to map from data points to colors\n",
    "norm = plt.Normalize(df_simra.velo.min(), df_simra.velo.max())\n",
    "\n",
    "df_simra_grouped = df_simra.groupby('filename')\n",
    "for ride_group_name in df_simra_grouped.groups:\n",
    "    df_ride_group = df_simra_grouped.get_group(ride_group_name)\n",
    "    points = np.array([df_ride_group.lon, df_ride_group.lat]).T.reshape(-1, 1, 2)\n",
    "    segments = np.concatenate([points[:-1], points[1:]], axis=1)\n",
    "\n",
    "    lc = LineCollection(segments, cmap='viridis', norm=norm)\n",
    "    # Set the values used for colormapping\n",
    "    lc.set_array(df_ride_group.velo.values)\n",
    "    lc.set_linewidth(2)\n",
    "    line = ax.add_collection(lc)\n",
    "\n",
    "ax.set_xlim(min(df_simra.lon), max(df_simra.lon))\n",
    "ax.set_ylim(min(df_simra.lat), max(df_simra.lat))\n",
    "\n",
    "axcb = fig.colorbar(lc, ax=ax, shrink=0.8, pad=0.1)\n",
    "axcb.set_label('Velocity in m/s')\n",
    "\n",
    "ax.xaxis.set_major_locator(ticker.LinearLocator(4))\n",
    "ax.xaxis.set_major_formatter(ticker.ScalarFormatter(useOffset=False))\n",
    "ax.yaxis.set_major_locator(ticker.LinearLocator(4))\n",
    "ax.yaxis.set_major_formatter(ticker.ScalarFormatter(useOffset=False))\n",
    "ax.set_xlabel('Longitude in decimal degrees')\n",
    "ax.set_ylabel('Latitude in decimal degrees')\n",
    "\n",
    "\n",
    "plt.show()"
   ]
  },
  {
   "cell_type": "code",
   "execution_count": null,
   "metadata": {},
   "outputs": [],
   "source": [
    "from sklearn.preprocessing import MinMaxScaler\n",
    "scaler = MinMaxScaler()\n",
    "\n",
    "\n",
    "N_CLUSTERS = 2\n",
    "kmeans = KMeans(n_clusters=N_CLUSTERS, random_state=0)\n",
    "\n",
    "print(velos.shape)\n",
    "print(dists.shape)\n",
    "\n",
    "velos_c = velos.copy()\n",
    "dists_c = dists.copy()\n",
    "\n",
    "velos = scaler.fit_transform(velos)\n",
    "dists = scaler.fit_transform(dists)\n",
    "\n",
    "velo_dist_combined = np.hstack([velos, dists])\n",
    "print(velo_dist_combined.shape)\n",
    "\n",
    "velo_dist_cluster_labels = kmeans.fit_predict(velo_dist_combined)\n",
    "velo_dist_cluster_centers = kmeans.cluster_centers_\n",
    "\n",
    "colors = ['blue' if label == 0 else 'orange' for label in velo_dist_cluster_labels]\n",
    "plt.scatter(velo_dist_combined[:,0], velo_dist_combined[:,1], c=colors)\n",
    "plt.scatter(velo_dist_cluster_centers[:,0], velo_dist_cluster_centers[:,1], color='red')\n"
   ]
  }
 ],
 "metadata": {
  "kernelspec": {
   "display_name": "adsp_ma-3.7.8",
   "language": "python",
   "name": "adsp_ma-3.7.8"
  },
  "language_info": {
   "codemirror_mode": {
    "name": "ipython",
    "version": 3
   },
   "file_extension": ".py",
   "mimetype": "text/x-python",
   "name": "python",
   "nbconvert_exporter": "python",
   "pygments_lexer": "ipython3"
  }
 },
 "nbformat": 4,
 "nbformat_minor": 4
}
