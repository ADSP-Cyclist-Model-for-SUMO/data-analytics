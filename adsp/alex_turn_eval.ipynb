{
 "cells": [
  {
   "cell_type": "code",
   "execution_count": null,
   "metadata": {},
   "outputs": [],
   "source": [
    "from datetime import datetime\n",
    "\n",
    "import pandas as pd\n",
    "from sklearn.cluster import KMeans\n",
    "from sklearn.preprocessing import MinMaxScaler\n",
    "import numpy as np\n",
    "import seaborn as sns\n",
    "import matplotlib.pyplot as plt\n",
    "\n",
    "from db_utils import get_rect_to_rect_data"
   ]
  },
  {
   "cell_type": "code",
   "execution_count": null,
   "metadata": {},
   "outputs": [],
   "source": [
    "ped_files = ['VM2_-2112701535', 'VM2_-217686115','VM2_-1247665811','VM2_-104300786', 'VM2_330973206', 'VM2_1100569031', 'VM2_421371629', 'VM2_421371629', 'VM2_1476499235', 'VM2_-1451152685', 'VM2_-1523872256']"
   ]
  },
  {
   "cell_type": "code",
   "execution_count": null,
   "metadata": {},
   "outputs": [],
   "source": [
    "start_rect_coords = (13.416257,52.521664,13.416462,52.521793)\n",
    "end_rect_coords = (13.416026,52.522284,13.416231,52.522413)\n",
    "\n",
    "end_date_str = '2021-01-01 00:00:00'\n",
    "end_date = datetime.strptime(end_date_str, '%Y-%m-%d %H:%M:%S')\n",
    "\n",
    "df_simra = get_rect_to_rect_data(start_rect_coords, end_rect_coords, end_date=end_date, files_to_exclude=ped_files)\n",
    "# df_simra = get_rect_to_rect_data(start_rect_coords, end_rect_coords, end_date=end_date, files_to_exclude=None)"
   ]
  },
  {
   "cell_type": "code",
   "execution_count": null,
   "metadata": {},
   "outputs": [],
   "source": [
    "# Some entries contain nans, or no speed, even though a distance is given. Inspect further. Option for filtering or preprocessing.\n",
    "\n",
    "\n",
    "# df_simra.loc[(df_simra==0).any(axis=1)]\n",
    "# df_simra.loc[(df_simra.isna()).any(axis=1)]\n",
    "\n",
    "# df_simra[(df_simra.velo == 0) | (df_simra.velo.isna())]\n",
    "df_simra[((df_simra.velo == 0) | (df_simra.velo.isna())) & (df_simra.dist != 0.0)]"
   ]
  },
  {
   "cell_type": "code",
   "execution_count": null,
   "metadata": {},
   "outputs": [],
   "source": [
    "# df_simra.loc[df_simra['filename'] == df_simra['filename'][27]]"
   ]
  },
  {
   "cell_type": "code",
   "execution_count": null,
   "metadata": {},
   "outputs": [],
   "source": [
    "df_simra"
   ]
  },
  {
   "cell_type": "code",
   "execution_count": null,
   "metadata": {},
   "outputs": [],
   "source": [
    "df_simra_grouped = df_simra.groupby('filename').agg({'velo': 'mean', 'dist': 'sum'})\n",
    "# df_simra_grouped"
   ]
  },
  {
   "cell_type": "code",
   "execution_count": null,
   "metadata": {},
   "outputs": [],
   "source": [
    "# # rotate vector by 90 degrees clockwise\n",
    "# #    (x, y)     -> (y, -x)\n",
    "# # =  (lon, lat) -> (lat, -lon)\n",
    "# lat_start = df_simra.groupby('filename').first()['lat'].rename('start_lat')\n",
    "# lat_end = df_simra.groupby('filename').last()['lat']\n",
    "\n",
    "# delta_lat = lat_end - lat_start\n",
    "\n",
    "# lon_start = df_simra.groupby('filename').first()['lon'].rename('start_lon')\n",
    "# lon_end = df_simra.groupby('filename').last()['lon']\n",
    "\n",
    "# delta_lon = lon_end - lon_start\n",
    "\n",
    "# path_rotated_lon_unnormalized = delta_lat\n",
    "# path_rotated_lat_unnormalized = (-1) *  delta_lon\n",
    "\n",
    "# path_rotated_lon = path_rotated_lon_unnormalized / np.sqrt(path_rotated_lon_unnormalized**2+ path_rotated_lat_unnormalized**2)\n",
    "# path_rotated_lat = path_rotated_lat_unnormalized / np.sqrt(path_rotated_lon_unnormalized**2+ path_rotated_lat_unnormalized**2)\n",
    "\n",
    "# path_rotated_lat = path_rotated_lat.rename('path_rotated_lat')\n",
    "# path_rotated_lon = path_rotated_lon.rename('path_rotated_lon')"
   ]
  },
  {
   "cell_type": "code",
   "execution_count": null,
   "metadata": {},
   "outputs": [],
   "source": [
    "# rotate vector by 90 degrees clockwise\n",
    "#    (x, y)     -> (y, -x)\n",
    "# =  (lon, lat) -> (lat, -lon)\n",
    "lat_start = df_simra.iloc[0].lat\n",
    "lat_end = df_simra.iloc[-1].lat\n",
    "\n",
    "delta_lat = lat_end - lat_start\n",
    "\n",
    "lon_start = df_simra.iloc[0].lat\n",
    "lon_end = df_simra.iloc[-1].lat\n",
    "\n",
    "delta_lon = lon_end - lon_start\n",
    "\n",
    "path_rotated_lon_unnormalized = delta_lat\n",
    "path_rotated_lat_unnormalized = (-1) *  delta_lon\n",
    "\n",
    "path_rotated_lon = path_rotated_lon_unnormalized / np.sqrt(path_rotated_lon_unnormalized**2+ path_rotated_lat_unnormalized**2)\n",
    "path_rotated_lat = path_rotated_lat_unnormalized / np.sqrt(path_rotated_lon_unnormalized**2+ path_rotated_lat_unnormalized**2)"
   ]
  },
  {
   "cell_type": "code",
   "execution_count": null,
   "metadata": {},
   "outputs": [],
   "source": [
    "path_rotated_lon"
   ]
  },
  {
   "cell_type": "code",
   "execution_count": null,
   "metadata": {},
   "outputs": [],
   "source": [
    "df_simra_grouped_vec = pd.concat([df_simra_grouped.reset_index()], axis =1)\n",
    "# df_simra_grouped_vec"
   ]
  },
  {
   "cell_type": "code",
   "execution_count": null,
   "metadata": {},
   "outputs": [],
   "source": [
    "max_projections = []\n",
    "for filename in df_simra_grouped_vec['filename']:\n",
    "    print(filename)\n",
    "    projections = []\n",
    "    x = path_rotated_lat\n",
    "    y = path_rotated_lon\n",
    "    x_norm = x / np.sqrt(x**2 + y**2)\n",
    "    y_norm = y / np.sqrt(x**2 + y**2)\n",
    "    print(f\"x: {x}\\n y: {y}\")\n",
    "    print(f\"x: {x_norm}\\n y: {y_norm}\\n\")\n",
    "    for lat, lon in zip(df_simra[df_simra['filename'] == filename]['lat'], df_simra[df_simra['filename'] == filename]['lon']):\n",
    "        print(f\"lat: {lat}, lon: {lon}\")\n",
    "        projection = (lat * x_norm) + (lon * y_norm)\n",
    "        print(f'projection: {projection}')\n",
    "        projections.append(projection)\n",
    "    print('projections:\\n', projections)\n",
    "    max_projections.append(np.max(projections))\n",
    "\n",
    "df_simra_grouped_vec['max_projection'] = max_projections\n",
    "\n",
    "\n",
    "    # print(projections)\n",
    "    # print(f\"max {np.max(projections)}\")\n",
    "\n",
    "    # print(f\"min {np.min(projections)}\") #just to check, but it should be only the max"
   ]
  },
  {
   "cell_type": "code",
   "execution_count": null,
   "metadata": {},
   "outputs": [],
   "source": [
    "df_simra_grouped_vec"
   ]
  },
  {
   "cell_type": "code",
   "execution_count": null,
   "metadata": {},
   "outputs": [],
   "source": [
    "# df_simra_grouped_vec.loc[df_simra_grouped_vec['filename']==df_simra_grouped_vec['filename'][0]]['path_rotated_lat']"
   ]
  },
  {
   "cell_type": "code",
   "execution_count": null,
   "metadata": {},
   "outputs": [],
   "source": [
    "plt.hist(max_projections, bins = 50);"
   ]
  },
  {
   "cell_type": "code",
   "execution_count": null,
   "metadata": {},
   "outputs": [],
   "source": [
    "# Scale distances and velocities with min-max-scaler to make distances comparable\n",
    "Scaler = MinMaxScaler()\n",
    "\n",
    "dists_unscaled = np.array(df_simra_grouped.dist).reshape(-1, 1)\n",
    "velos_unscaled = np.array(df_simra_grouped.velo).reshape(-1, 1)\n",
    "max_projections_unscaled = np.array(max_projections).reshape(-1, 1)\n",
    "\n",
    "dists = Scaler.fit_transform(dists_unscaled)\n",
    "velos = Scaler.fit_transform(velos_unscaled)\n",
    "max_projections = Scaler.fit_transform(max_projections_unscaled)\n"
   ]
  },
  {
   "cell_type": "markdown",
   "metadata": {},
   "source": [
    "### Review: Velocity depened graph"
   ]
  },
  {
   "cell_type": "code",
   "execution_count": null,
   "metadata": {},
   "outputs": [],
   "source": [
    "import matplotlib.pyplot as plt\n",
    "from matplotlib import ticker\n",
    "from matplotlib.collections import LineCollection\n",
    "\n",
    "fig, ax = plt.subplots(figsize=(12, 12))\n",
    "ax.set_aspect('equal')\n",
    "# Create a continuous norm to map from data points to colors\n",
    "norm = plt.Normalize(df_simra.velo.min(), df_simra.velo.max())\n",
    "\n",
    "df_simra_grouped = df_simra.groupby('filename')\n",
    "for ride_group_name in df_simra_grouped.groups:\n",
    "    df_ride_group = df_simra_grouped.get_group(ride_group_name)\n",
    "    points = np.array([df_ride_group.lon, df_ride_group.lat]).T.reshape(-1, 1, 2)\n",
    "    segments = np.concatenate([points[:-1], points[1:]], axis=1)\n",
    "\n",
    "    lc = LineCollection(segments, cmap='viridis', norm=norm)\n",
    "    # Set the values used for colormapping\n",
    "    lc.set_array(df_ride_group.velo.values)\n",
    "    lc.set_linewidth(2)\n",
    "    line = ax.add_collection(lc)\n",
    "\n",
    "ax.set_xlim(min(df_simra.lon), max(df_simra.lon))\n",
    "ax.set_ylim(min(df_simra.lat), max(df_simra.lat))\n",
    "\n",
    "axcb = fig.colorbar(lc, ax=ax, shrink=0.8, pad=0.1)\n",
    "axcb.set_label('Velocity in m/s')\n",
    "\n",
    "ax.xaxis.set_major_locator(ticker.LinearLocator(4))\n",
    "ax.xaxis.set_major_formatter(ticker.ScalarFormatter(useOffset=False))\n",
    "ax.yaxis.set_major_locator(ticker.LinearLocator(4))\n",
    "ax.yaxis.set_major_formatter(ticker.ScalarFormatter(useOffset=False))\n",
    "ax.set_xlabel('Longitude in decimal degrees')\n",
    "ax.set_ylabel('Latitude in decimal degrees')\n",
    "\n",
    "plt.show()"
   ]
  },
  {
   "cell_type": "markdown",
   "metadata": {},
   "source": [
    "### Average Velocity & Distance"
   ]
  },
  {
   "cell_type": "code",
   "execution_count": null,
   "metadata": {},
   "outputs": [],
   "source": [
    "N_CLUSTERS = 2\n",
    "kmeans = KMeans(n_clusters=N_CLUSTERS, random_state=0)\n",
    "\n",
    "print(velos.shape)\n",
    "print(dists.shape)\n",
    "\n",
    "velo_dist_combined = np.hstack([velos, dists])\n",
    "print(velo_dist_combined.shape)\n",
    "\n",
    "velo_dist_cluster_labels = kmeans.fit_predict(velo_dist_combined)\n",
    "velo_dist_cluster_centers = kmeans.cluster_centers_\n",
    "\n",
    "colors = ['blue' if label == 0 else 'orange' for label in velo_dist_cluster_labels]\n",
    "plt.scatter(velo_dist_combined[:,0], velo_dist_combined[:,1], c=colors)\n",
    "plt.scatter(velo_dist_cluster_centers[:,0], velo_dist_cluster_centers[:,1], color='red')\n",
    "plt.xlabel('velocity (min-max-scaled)')\n",
    "plt.ylabel('distance (min-max-scaled)')\n"
   ]
  },
  {
   "cell_type": "code",
   "execution_count": null,
   "metadata": {},
   "outputs": [],
   "source": [
    "import matplotlib.pyplot as plt\n",
    "from matplotlib import ticker\n",
    "from matplotlib.collections import LineCollection\n",
    "\n",
    "fig, ax = plt.subplots(figsize=(12, 12))\n",
    "ax.set_aspect('equal')\n",
    "# Create a continuous norm to map from data points to colors\n",
    "norm = plt.Normalize(df_simra.velo.min(), df_simra.velo.max())\n",
    "\n",
    "df_simra_grouped = df_simra.groupby('filename')\n",
    "for i, ride_group_name in enumerate(df_simra_grouped.groups):\n",
    "    df_ride_group = df_simra_grouped.get_group(ride_group_name)\n",
    "    points = np.array([df_ride_group.lon, df_ride_group.lat]).T.reshape(-1, 1, 2)\n",
    "    segments = np.concatenate([points[:-1], points[1:]], axis=1)\n",
    "\n",
    "    lc = LineCollection(segments)\n",
    "    # Set the color according to cluster\n",
    "    lc.set_linewidth(2)\n",
    "    if velo_dist_cluster_labels[i] == 0:\n",
    "        col = 'blue'\n",
    "    else:\n",
    "        col = 'orange'\n",
    "    lc.set_edgecolors(col)\n",
    "    line = ax.add_collection(lc)\n",
    "\n",
    "ax.set_xlim(min(df_simra.lon), max(df_simra.lon))\n",
    "ax.set_ylim(min(df_simra.lat), max(df_simra.lat))\n",
    "\n",
    "# axcb = fig.colorbar(lc, ax=ax, shrink=0.8, pad=0.1)\n",
    "# axcb.set_label('Velocity in m/s')\n",
    "\n",
    "ax.xaxis.set_major_locator(ticker.LinearLocator(4))\n",
    "ax.xaxis.set_major_formatter(ticker.ScalarFormatter(useOffset=False))\n",
    "ax.yaxis.set_major_locator(ticker.LinearLocator(4))\n",
    "ax.yaxis.set_major_formatter(ticker.ScalarFormatter(useOffset=False))\n",
    "ax.set_xlabel('Longitude in decimal degrees')\n",
    "ax.set_ylabel('Latitude in decimal degrees')\n",
    "\n",
    "\n",
    "plt.show()"
   ]
  },
  {
   "cell_type": "markdown",
   "metadata": {},
   "source": [
    "### Average Velocity"
   ]
  },
  {
   "cell_type": "code",
   "execution_count": null,
   "metadata": {},
   "outputs": [],
   "source": [
    "N_CLUSTERS = 2\n",
    "kmeans = KMeans(n_clusters=N_CLUSTERS, random_state=0)\n",
    "\n",
    "\n",
    "velo_cluster_labels = kmeans.fit_predict(velos)\n",
    "velo_cluster_centers = kmeans.cluster_centers_\n",
    "\n",
    "sns.stripplot(x=[x_ for x_, label in zip(velos, velo_cluster_labels) if label == 0], color='blue')\n",
    "sns.stripplot(x=[x_ for x_, label in zip(velos, velo_cluster_labels) if label == 1], color='orange')\n",
    "sns.stripplot(x=velo_cluster_centers, color='red', size=10, jitter=False)\n",
    "plt.xlabel('velocities (min-max-scaled)')\n"
   ]
  },
  {
   "cell_type": "code",
   "execution_count": null,
   "metadata": {},
   "outputs": [],
   "source": [
    "import matplotlib.pyplot as plt\n",
    "from matplotlib import ticker\n",
    "from matplotlib.collections import LineCollection\n",
    "\n",
    "fig, ax = plt.subplots(figsize=(12, 12))\n",
    "ax.set_aspect('equal')\n",
    "# Create a continuous norm to map from data points to colors\n",
    "norm = plt.Normalize(df_simra.velo.min(), df_simra.velo.max())\n",
    "\n",
    "df_simra_grouped = df_simra.groupby('filename')\n",
    "for i, ride_group_name in enumerate(df_simra_grouped.groups):\n",
    "    df_ride_group = df_simra_grouped.get_group(ride_group_name)\n",
    "    points = np.array([df_ride_group.lon, df_ride_group.lat]).T.reshape(-1, 1, 2)\n",
    "    segments = np.concatenate([points[:-1], points[1:]], axis=1)\n",
    "\n",
    "    lc = LineCollection(segments)\n",
    "    # Set the color according to cluster\n",
    "    lc.set_linewidth(2)\n",
    "    if velo_cluster_labels[i] == 0:\n",
    "        col = 'blue'\n",
    "    else:\n",
    "        col = 'orange'\n",
    "    lc.set_edgecolors(col)\n",
    "    line = ax.add_collection(lc)\n",
    "\n",
    "ax.set_xlim(min(df_simra.lon), max(df_simra.lon))\n",
    "ax.set_ylim(min(df_simra.lat), max(df_simra.lat))\n",
    "\n",
    "# axcb = fig.colorbar(lc, ax=ax, shrink=0.8, pad=0.1)\n",
    "# axcb.set_label('Velocity in m/s')\n",
    "\n",
    "ax.xaxis.set_major_locator(ticker.LinearLocator(4))\n",
    "ax.xaxis.set_major_formatter(ticker.ScalarFormatter(useOffset=False))\n",
    "ax.yaxis.set_major_locator(ticker.LinearLocator(4))\n",
    "ax.yaxis.set_major_formatter(ticker.ScalarFormatter(useOffset=False))\n",
    "ax.set_xlabel('Longitude in decimal degrees')\n",
    "ax.set_ylabel('Latitude in decimal degrees')\n",
    "\n",
    "\n",
    "plt.show()"
   ]
  },
  {
   "cell_type": "markdown",
   "metadata": {},
   "source": [
    "### Distance"
   ]
  },
  {
   "cell_type": "code",
   "execution_count": null,
   "metadata": {},
   "outputs": [],
   "source": [
    "N_CLUSTERS = 2\n",
    "kmeans = KMeans(n_clusters=N_CLUSTERS, random_state=0)\n",
    "\n",
    "dist_cluster_labels = kmeans.fit_predict(dists)\n",
    "dist_cluster_centers = kmeans.cluster_centers_\n",
    "\n",
    "sns.stripplot(x=[x_ for x_, label in zip(dists, dist_cluster_labels) if label == 0], color='blue')\n",
    "sns.stripplot(x=[x_ for x_, label in zip(dists, dist_cluster_labels) if label == 1], color='orange')\n",
    "sns.stripplot(x=dist_cluster_centers, color='red', size=10, jitter=False)\n",
    "plt.xlabel('distance (min-max-scaled)')\n"
   ]
  },
  {
   "cell_type": "code",
   "execution_count": null,
   "metadata": {},
   "outputs": [],
   "source": [
    "import matplotlib.pyplot as plt\n",
    "from matplotlib import ticker\n",
    "from matplotlib.collections import LineCollection\n",
    "\n",
    "fig, ax = plt.subplots(figsize=(12, 12))\n",
    "ax.set_aspect('equal')\n",
    "# Create a continuous norm to map from data points to colors\n",
    "norm = plt.Normalize(df_simra.velo.min(), df_simra.velo.max())\n",
    "\n",
    "df_simra_grouped = df_simra.groupby('filename')\n",
    "for i, ride_group_name in enumerate(df_simra_grouped.groups):\n",
    "    df_ride_group = df_simra_grouped.get_group(ride_group_name)\n",
    "    points = np.array([df_ride_group.lon, df_ride_group.lat]).T.reshape(-1, 1, 2)\n",
    "    segments = np.concatenate([points[:-1], points[1:]], axis=1)\n",
    "\n",
    "    lc = LineCollection(segments)\n",
    "    # Set the color according to cluster\n",
    "    lc.set_linewidth(2)\n",
    "    if dist_cluster_labels[i] == 0:\n",
    "        col = 'blue'\n",
    "    else:\n",
    "        col = 'orange'\n",
    "    lc.set_edgecolors(col)\n",
    "    line = ax.add_collection(lc)\n",
    "\n",
    "ax.set_xlim(min(df_simra.lon), max(df_simra.lon))\n",
    "ax.set_ylim(min(df_simra.lat), max(df_simra.lat))\n",
    "\n",
    "# axcb = fig.colorbar(lc, ax=ax, shrink=0.8, pad=0.1)\n",
    "# axcb.set_label('Velocity in m/s')\n",
    "\n",
    "ax.xaxis.set_major_locator(ticker.LinearLocator(4))\n",
    "ax.xaxis.set_major_formatter(ticker.ScalarFormatter(useOffset=False))\n",
    "ax.yaxis.set_major_locator(ticker.LinearLocator(4))\n",
    "ax.yaxis.set_major_formatter(ticker.ScalarFormatter(useOffset=False))\n",
    "ax.set_xlabel('Longitude in decimal degrees')\n",
    "ax.set_ylabel('Latitude in decimal degrees')\n",
    "\n",
    "\n",
    "plt.show()"
   ]
  },
  {
   "cell_type": "markdown",
   "metadata": {},
   "source": [
    "### Distance & Projection"
   ]
  },
  {
   "cell_type": "code",
   "execution_count": null,
   "metadata": {},
   "outputs": [],
   "source": [
    "N_CLUSTERS = 2\n",
    "kmeans = KMeans(n_clusters=N_CLUSTERS, random_state=0)\n",
    "\n",
    "print(velos.shape)\n",
    "print(dists.shape)\n",
    "\n",
    "projection_dist_combined = np.hstack([max_projections, dists])\n",
    "print(projection_dist_combined.shape)\n",
    "\n",
    "projection_dist_cluster_labels = kmeans.fit_predict(projection_dist_combined)\n",
    "projection_dist_cluster_centers = kmeans.cluster_centers_\n",
    "\n",
    "colors = ['blue' if label == 0 else 'orange' for label in projection_dist_cluster_labels]\n",
    "plt.scatter(projection_dist_combined[:,0], projection_dist_combined[:,1], c=colors)\n",
    "plt.scatter(projection_dist_cluster_centers[:,0], projection_dist_cluster_centers[:,1], color='red')\n",
    "plt.xlabel('max_projection (min-max-scaled)')\n",
    "plt.ylabel('distance (min-max-scaled)')"
   ]
  },
  {
   "cell_type": "code",
   "execution_count": null,
   "metadata": {},
   "outputs": [],
   "source": [
    "import matplotlib.pyplot as plt\n",
    "from matplotlib import ticker\n",
    "from matplotlib.collections import LineCollection\n",
    "\n",
    "fig, ax = plt.subplots(figsize=(12, 12))\n",
    "ax.set_aspect('equal')\n",
    "# Create a continuous norm to map from data points to colors\n",
    "norm = plt.Normalize(df_simra.velo.min(), df_simra.velo.max())\n",
    "\n",
    "df_simra_grouped = df_simra.groupby('filename')\n",
    "for i, ride_group_name in enumerate(df_simra_grouped.groups):\n",
    "    df_ride_group = df_simra_grouped.get_group(ride_group_name)\n",
    "    points = np.array([df_ride_group.lon, df_ride_group.lat]).T.reshape(-1, 1, 2)\n",
    "    segments = np.concatenate([points[:-1], points[1:]], axis=1)\n",
    "\n",
    "    lc = LineCollection(segments)\n",
    "    # Set the color according to cluster\n",
    "    lc.set_linewidth(2)\n",
    "    if projection_dist_cluster_labels[i] == 0:\n",
    "        col = 'blue'\n",
    "    else:\n",
    "        col = 'orange'\n",
    "    lc.set_edgecolors(col)\n",
    "    line = ax.add_collection(lc)\n",
    "\n",
    "ax.set_xlim(min(df_simra.lon), max(df_simra.lon))\n",
    "ax.set_ylim(min(df_simra.lat), max(df_simra.lat))\n",
    "\n",
    "# axcb = fig.colorbar(lc, ax=ax, shrink=0.8, pad=0.1)\n",
    "# axcb.set_label('Velocity in m/s')\n",
    "\n",
    "ax.xaxis.set_major_locator(ticker.LinearLocator(4))\n",
    "ax.xaxis.set_major_formatter(ticker.ScalarFormatter(useOffset=False))\n",
    "ax.yaxis.set_major_locator(ticker.LinearLocator(4))\n",
    "ax.yaxis.set_major_formatter(ticker.ScalarFormatter(useOffset=False))\n",
    "ax.set_xlabel('Longitude in decimal degrees')\n",
    "ax.set_ylabel('Latitude in decimal degrees')\n",
    "\n",
    "\n",
    "plt.show()"
   ]
  },
  {
   "cell_type": "markdown",
   "metadata": {},
   "source": [
    "### Projection"
   ]
  },
  {
   "cell_type": "code",
   "execution_count": null,
   "metadata": {},
   "outputs": [],
   "source": [
    "N_CLUSTERS = 2\n",
    "kmeans = KMeans(n_clusters=N_CLUSTERS, random_state=0)\n",
    "\n",
    "max_projections_cluster_labels = kmeans.fit_predict(max_projections)\n",
    "max_projections_cluster_centers = kmeans.cluster_centers_\n",
    "\n",
    "sns.stripplot(x=[x_ for x_, label in zip(max_projections, max_projections_cluster_labels) if label == 0], color='blue')\n",
    "sns.stripplot(x=[x_ for x_, label in zip(max_projections, max_projections_cluster_labels) if label == 1], color='orange')\n",
    "sns.stripplot(x=max_projections_cluster_centers, color='red', size=10, jitter=False)\n",
    "plt.xlabel('max_projection (min-max-scaled)')\n"
   ]
  },
  {
   "cell_type": "code",
   "execution_count": null,
   "metadata": {},
   "outputs": [],
   "source": [
    "import matplotlib.pyplot as plt\n",
    "from matplotlib import ticker\n",
    "from matplotlib.collections import LineCollection\n",
    "\n",
    "fig, ax = plt.subplots(figsize=(12, 12))\n",
    "ax.set_aspect('equal')\n",
    "# Create a continuous norm to map from data points to colors\n",
    "norm = plt.Normalize(df_simra.velo.min(), df_simra.velo.max())\n",
    "\n",
    "df_simra_grouped = df_simra.groupby('filename')\n",
    "for i, ride_group_name in enumerate(df_simra_grouped.groups):\n",
    "    df_ride_group = df_simra_grouped.get_group(ride_group_name)\n",
    "    points = np.array([df_ride_group.lon, df_ride_group.lat]).T.reshape(-1, 1, 2)\n",
    "    segments = np.concatenate([points[:-1], points[1:]], axis=1)\n",
    "\n",
    "    lc = LineCollection(segments)\n",
    "    # Set the color according to cluster\n",
    "    lc.set_linewidth(2)\n",
    "    if max_projections_cluster_labels[i] == 0:\n",
    "        col = 'blue'\n",
    "    else:\n",
    "        col = 'orange'\n",
    "    lc.set_edgecolors(col)\n",
    "    line = ax.add_collection(lc)\n",
    "\n",
    "ax.set_xlim(min(df_simra.lon), max(df_simra.lon))\n",
    "ax.set_ylim(min(df_simra.lat), max(df_simra.lat))\n",
    "\n",
    "# axcb = fig.colorbar(lc, ax=ax, shrink=0.8, pad=0.1)\n",
    "# axcb.set_label('Velocity in m/s')\n",
    "\n",
    "ax.xaxis.set_major_locator(ticker.LinearLocator(4))\n",
    "ax.xaxis.set_major_formatter(ticker.ScalarFormatter(useOffset=False))\n",
    "ax.yaxis.set_major_locator(ticker.LinearLocator(4))\n",
    "ax.yaxis.set_major_formatter(ticker.ScalarFormatter(useOffset=False))\n",
    "ax.set_xlabel('Longitude in decimal degrees')\n",
    "ax.set_ylabel('Latitude in decimal degrees')\n",
    "\n",
    "\n",
    "plt.show()"
   ]
  },
  {
   "cell_type": "code",
   "execution_count": null,
   "metadata": {},
   "outputs": [],
   "source": [
    "df_simra_grouped_vec['max_projection']"
   ]
  },
  {
   "cell_type": "code",
   "execution_count": null,
   "metadata": {},
   "outputs": [],
   "source": [
    "import matplotlib.pyplot as plt\n",
    "from matplotlib import ticker\n",
    "\n",
    "fig, ax = plt.subplots(figsize=(12, 12))\n",
    "ax.set_aspect('equal')\n",
    "\n",
    "colors = ['blue', 'orange']\n",
    "\n",
    "df_simra_grouped = df_simra.groupby('filename')\n",
    "for i, ride_group_name in enumerate(df_simra_grouped.groups):\n",
    "    # if i == 8: break\n",
    "    df_ride_group = df_simra_grouped.get_group(ride_group_name)\n",
    "    ax.plot(df_ride_group.lon, df_ride_group.lat, color=colors[max_projections_cluster_labels[i]])\n",
    "\n",
    "    df_ride_group_vec = df_simra_grouped_vec[df_simra_grouped_vec.filename == ride_group_name]\n",
    "    vec_rot_lon = [lon_start, lon_start + path_rotated_lon]\n",
    "    vec_rot_lat = [lat_start, lat_start + path_rotated_lat]\n",
    "    ax.plot(vec_rot_lon, vec_rot_lat, color='green')\n",
    "\n",
    "    projection_point_lon = np.float(path_rotated_lon) * df_ride_group_vec['max_projection']\n",
    "    projection_point_lat = np.float(path_rotated_lat) * df_ride_group_vec['max_projection']\n",
    "\n",
    "    print(projection_point_lon, projection_point_lat)\n",
    "    ax.scatter([projection_point_lon], [projection_point_lat], color='red', s=50)\n",
    "\n",
    "\n",
    "ax.set_xlim(min(df_simra.lon), max(df_simra.lon))\n",
    "ax.set_ylim(min(df_simra.lat), max(df_simra.lat))\n",
    "\n",
    "ax.xaxis.set_major_locator(ticker.LinearLocator(4))\n",
    "ax.xaxis.set_major_formatter(ticker.ScalarFormatter(useOffset=False))\n",
    "ax.yaxis.set_major_locator(ticker.LinearLocator(4))\n",
    "ax.yaxis.set_major_formatter(ticker.ScalarFormatter(useOffset=False))\n",
    "ax.set_xlabel('Longitude in decimal degrees')\n",
    "ax.set_ylabel('Latitude in decimal degrees')\n",
    "\n",
    "\n",
    "plt.show()"
   ]
  },
  {
   "cell_type": "code",
   "execution_count": null,
   "metadata": {},
   "outputs": [],
   "source": [
    "plt.hist(max_projections)"
   ]
  }
 ],
 "metadata": {
  "interpreter": {
   "hash": "f903ae77537726cbc8683684635e37cba0c75e348e6bb3378fc1072df3c68a6e"
  },
  "kernelspec": {
   "display_name": "adsp_ma-3.7.8",
   "language": "python",
   "name": "adsp_ma-3.7.8"
  },
  "language_info": {
   "codemirror_mode": {
    "name": "ipython",
    "version": 3
   },
   "file_extension": ".py",
   "mimetype": "text/x-python",
   "name": "python",
   "nbconvert_exporter": "python",
   "pygments_lexer": "ipython3"
  }
 },
 "nbformat": 4,
 "nbformat_minor": 4
}
