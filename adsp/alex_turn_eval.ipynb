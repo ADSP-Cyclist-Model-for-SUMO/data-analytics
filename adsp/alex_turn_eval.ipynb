{
 "cells": [
  {
   "cell_type": "code",
   "execution_count": null,
   "metadata": {},
   "outputs": [],
   "source": [
    "from datetime import datetime\n",
    "\n",
    "import numpy as np\n",
    "import pandas as pd\n",
    "import matplotlib.pyplot as plt\n",
    "from matplotlib import ticker\n",
    "from matplotlib.collections import LineCollection\n",
    "\n",
    "from utils import get_rect_to_rect_data, get_rect_coords_from_center_point"
   ]
  },
  {
   "cell_type": "code",
   "execution_count": null,
   "metadata": {},
   "outputs": [],
   "source": [
    "ped_files = ['VM2_-2112701535', 'VM2_-217686115','VM2_-1247665811','VM2_-104300786', 'VM2_330973206', 'VM2_1100569031', 'VM2_421371629', 'VM2_421371629', 'VM2_1476499235', 'VM2_-1451152685', 'VM2_-1523872256']"
   ]
  },
  {
   "cell_type": "code",
   "execution_count": null,
   "metadata": {},
   "outputs": [],
   "source": [
    "# from matplotlib import rc\n",
    "\n",
    "# rc('font', **{'family': 'serif', 'serif': ['Computer Modern'], 'size': 16})\n",
    "# rc('text', usetex=True)"
   ]
  },
  {
   "cell_type": "code",
   "execution_count": null,
   "metadata": {},
   "outputs": [],
   "source": [
    "\n",
    "start_point_coords = (52.52181, 13.41645)\n",
    "end_point_coords = (52.52231, 13.41703)\n",
    "\n",
    "start_rect_coords = get_rect_coords_from_center_point(start_point_coords)\n",
    "end_rect_coords = get_rect_coords_from_center_point(end_point_coords)\n",
    "\n",
    "# start_rect_coords = (13.416354, 52.521752, 13.416705, 52.521961)\n",
    "# end_rect_coords = (13.416912, 52.522261, 13.417263, 52.52247)\n",
    "\n",
    "end_date_str = '2021-01-01 00:00:00'\n",
    "end_date = datetime.strptime(end_date_str, '%Y-%m-%d %H:%M:%S')\n",
    "\n",
    "df_simra = get_rect_to_rect_data(start_rect_coords, end_rect_coords, end_date=end_date)\n"
   ]
  },
  {
   "cell_type": "code",
   "execution_count": null,
   "metadata": {},
   "outputs": [],
   "source": [
    "df_simra_grouped = df_simra.groupby('filename').agg({'velos': 'mean', 'distances': 'sum'})\n",
    "df_simra_grouped"
   ]
  },
  {
   "cell_type": "code",
   "execution_count": null,
   "metadata": {},
   "outputs": [],
   "source": [
    "df_simra_grouped.shape"
   ]
  }
 ],
 "metadata": {
  "kernelspec": {
   "display_name": "adsp_ma-3.7.8",
   "language": "python",
   "name": "adsp_ma-3.7.8"
  },
  "language_info": {
   "codemirror_mode": {
    "name": "ipython",
    "version": 3
   },
   "file_extension": ".py",
   "mimetype": "text/x-python",
   "name": "python",
   "nbconvert_exporter": "python",
   "pygments_lexer": "ipython3"
  }
 },
 "nbformat": 4,
 "nbformat_minor": 4
}
