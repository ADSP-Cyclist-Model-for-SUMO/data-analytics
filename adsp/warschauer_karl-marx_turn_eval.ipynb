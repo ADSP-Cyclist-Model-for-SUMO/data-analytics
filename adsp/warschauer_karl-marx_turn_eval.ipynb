{
 "cells": [
  {
   "cell_type": "code",
   "execution_count": null,
   "metadata": {},
   "outputs": [],
   "source": [
    "from datetime import datetime\n",
    "\n",
    "import pandas as pd\n",
    "from sklearn.cluster import KMeans\n",
    "from sklearn.preprocessing import MinMaxScaler\n",
    "import numpy as np\n",
    "import seaborn as sns\n",
    "import matplotlib.pyplot as plt\n",
    "\n",
    "from db_utils import get_rect_to_rect_data\n",
    "from cluster_utils import cluster_by_max_projection_and_distance"
   ]
  },
  {
   "cell_type": "code",
   "execution_count": null,
   "metadata": {},
   "outputs": [],
   "source": [
    "start_rect_coords = (13.453961,52.515215,13.454414,52.515499)\n",
    "end_rect_coords = (13.452899,52.515914,13.453352,52.516198)\n",
    "\n",
    "\n",
    "# variant 1\n",
    "start_rect_coords = (13.454036,52.5153,13.454291,52.515626)\n",
    "end_rect_coords = (13.453827,52.515764,13.453985,52.515972)\n",
    "\n",
    "end_date_str = '2020-01-01 00:00:00'\n",
    "end_date = datetime.strptime(end_date_str, '%Y-%m-%d %H:%M:%S')\n",
    "\n",
    "# df_simra = get_rect_to_rect_data(start_rect_coords, end_rect_coords, end_date=end_date, files_to_exclude=ped_files)\n",
    "# df_simra = get_rect_to_rect_data(start_rect_coords, end_rect_coords, end_date=end_date, files_to_exclude=None)\n",
    "df_simra = get_rect_to_rect_data(start_rect_coords, end_rect_coords)"
   ]
  },
  {
   "cell_type": "code",
   "execution_count": null,
   "metadata": {},
   "outputs": [],
   "source": [
    "# Some entries contain nans, or no speed, even though a distance is given. Inspect further. Option for filtering or preprocessing.\n",
    "\n",
    "# df_simra.loc[(df_simra==0).any(axis=1)]\n",
    "# df_simra.loc[(df_simra.isna()).any(axis=1)]\n",
    "\n",
    "# df_simra[(df_simra.velo == 0) | (df_simra.velo.isna())]\n",
    "df_simra[((df_simra.velo == 0) | (df_simra.velo.isna())) & (df_simra.dist != 0.0)]"
   ]
  },
  {
   "cell_type": "code",
   "execution_count": null,
   "metadata": {},
   "outputs": [],
   "source": [
    "cluster_by_max_projection_and_distance(df_simra)"
   ]
  }
 ],
 "metadata": {
  "interpreter": {
   "hash": "767d51c1340bd893661ea55ea3124f6de3c7a262a8b4abca0554b478b1e2ff90"
  },
  "kernelspec": {
   "display_name": "adsp_ma-3.7.8",
   "language": "python",
   "name": "adsp_ma-3.7.8"
  },
  "language_info": {
   "codemirror_mode": {
    "name": "ipython",
    "version": 3
   },
   "file_extension": ".py",
   "mimetype": "text/x-python",
   "name": "python",
   "nbconvert_exporter": "python",
   "pygments_lexer": "ipython3"
  }
 },
 "nbformat": 4,
 "nbformat_minor": 4
}
