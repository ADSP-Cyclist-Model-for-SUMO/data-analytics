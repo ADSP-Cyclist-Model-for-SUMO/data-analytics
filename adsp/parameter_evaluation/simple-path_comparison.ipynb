{
 "cells": [
  {
   "cell_type": "code",
   "execution_count": null,
   "metadata": {},
   "outputs": [],
   "source": [
    "from comparison_utils import get_ride_data, analyze_and_plot_ride_data"
   ]
  },
  {
   "cell_type": "code",
   "execution_count": null,
   "metadata": {},
   "outputs": [],
   "source": [
    "SUMO_SIM_DATA_FOLDER = \"./sim_data\""
   ]
  },
  {
   "cell_type": "code",
   "execution_count": null,
   "metadata": {},
   "outputs": [],
   "source": [
    "# comparison_data = [\n",
    "#     {\n",
    "#         \"scenario_name\": \"Prinzenstr (Annenstr. to Moritzplatz)\",\n",
    "#         \"sumo_sim_file\": \"./sim_data/prinzenstr_new_params.csv\",\n",
    "#         \"start_rect_coords\": (13.413598,52.507573,13.414164,52.507822),\n",
    "#         \"end_rect_coords\": (13.410895,52.504089,13.411461,52.504338)\n",
    "#     },\n",
    "#     {\n",
    "#         \"scenario_name\": \"Prinzenstr (Dresdener Str. to Sebastianstr.)\",\n",
    "#         \"sumo_sim_file\": \"./sim_data/prinzenstr_new_params.csv\",\n",
    "#         \"start_rect_coords\": (13.412877,52.506571,13.413298,52.506765),\n",
    "#         \"end_rect_coords\": (13.411595,52.504951,13.412016,52.505145)\n",
    "#     },\n",
    "#     {\n",
    "#         \"scenario_name\": \"Oranienstr (Mariannenstr. to Adalbertstr.)\",\n",
    "#         \"sumo_sim_file\": \"./sim_data/oranienstr_new_params.csv\",\n",
    "#         \"start_rect_coords\": (13.422222,52.500212,13.422505,52.500645),\n",
    "#         \"end_rect_coords\": (13.419491,52.500976,13.419774,52.501409)\n",
    "#     },\n",
    "#     {\n",
    "#         \"scenario_name\": \"Oranienstr (Adalbertstr. to Oranienplatz)\",\n",
    "#         \"sumo_sim_file\": \"./sim_data/oranienstr_new_params.csv\",\n",
    "#         \"start_rect_coords\": (13.418756,52.501182,13.419039,52.501615),\n",
    "#         \"end_rect_coords\": (13.416766,52.501724,13.417049,52.502157)\n",
    "#     },\n",
    "#     {\n",
    "#         \"scenario_name\": \"Frankfurter Allee (Alfredstr. to Ruschestr.)\",\n",
    "#         \"sumo_sim_file\": \"./sim_data/b1_new_params.csv\",\n",
    "#         \"start_rect_coords\": (13.489109,52.512004,13.48953,52.512492),\n",
    "#         \"end_rect_coords\": (13.484732,52.512494,13.485153,52.512982)\n",
    "#     },\n",
    "#     {\n",
    "#         \"scenario_name\": \"Frankfurter Allee (Rathausstr. to Möllendorfstr.)\",\n",
    "#         \"sumo_sim_file\": \"./sim_data/b1_new_params.csv\",\n",
    "#         \"start_rect_coords\": (13.481105,52.513004,13.481526,52.513374),\n",
    "#         \"end_rect_coords\": (13.477682,52.513305,13.478103,52.513675)\n",
    "#     },\n",
    "#     {\n",
    "#         \"scenario_name\": \"Einsteinufer (Marchbrücke to Charlotenburger Brücke)\",\n",
    "#         \"sumo_sim_file\": \"./sim_data/chb_new_params.csv\",\n",
    "#         \"start_rect_coords\": (13.324764,52.516524,13.32511,52.517017),\n",
    "#         \"end_rect_coords\": (13.329785,52.513501,13.330475,52.513615)\n",
    "#     },\n",
    "#     {\n",
    "#         \"scenario_name\": \"Einsteinufer (Charlotenburger Brücke to Hardenbergstr.)\",\n",
    "#         \"sumo_sim_file\": \"./sim_data/chb_new_params.csv\",\n",
    "#         \"start_rect_coords\": (13.330096,52.51275,13.330786,52.512864),\n",
    "#         \"end_rect_coords\": (13.328176,52.508454,13.328866,52.508568)\n",
    "#     },\n",
    "#     {\n",
    "#         \"scenario_name\": \"Waldstr. (Turmstr. to Siemensstr.)\",\n",
    "#         \"sumo_sim_file\": \"./sim_data/moabit_new_params.csv\",\n",
    "#         \"start_rect_coords\": (13.329907,52.527466,13.331534,52.527762),\n",
    "#         \"end_rect_coords\": (13.331344,52.532257,13.332392,52.532553)\n",
    "#     }\n",
    "# ]# "
   ]
  },
  {
   "cell_type": "code",
   "execution_count": null,
   "metadata": {},
   "outputs": [],
   "source": [
    "comparison_data = [\n",
    "    {\n",
    "        \"scenario_name\": \"Frankfurter Allee (Alfredstr. to Ruschestr.)\",\n",
    "        \"sumo_sim_files\": [\"B1_new_params.csv\", \"B1_default.csv\"],\n",
    "        \"start_rect_coords\": (13.489109,52.512004,13.48953,52.512492),\n",
    "        \"end_rect_coords\": (13.484732,52.512494,13.485153,52.512982)\n",
    "    },\n",
    "    {\n",
    "        \"scenario_name\": \"Frankfurter Allee (Rathausstr. to Möllendorfstr.)\",\n",
    "        \"sumo_sim_files\": [\"B1_new_params.csv\", \"B1_default.csv\"],\n",
    "        \"start_rect_coords\": (13.481105,52.513004,13.481526,52.513374),\n",
    "        \"end_rect_coords\": (13.477682,52.513305,13.478103,52.513675)\n",
    "    },\n",
    "    {\n",
    "        \"scenario_name\": \"Einsteinufer (Marchbrücke to Charlotenburger Brücke)\",\n",
    "        \"sumo_sim_files\": [\"CHB_new_params.csv\", \"CHB_default.csv\"],\n",
    "        \"start_rect_coords\": (13.324764,52.516524,13.32511,52.517017),\n",
    "        \"end_rect_coords\": (13.329785,52.513501,13.330475,52.513615)\n",
    "    },\n",
    "    {\n",
    "        \"scenario_name\": \"Einsteinufer (Charlotenburger Brücke to Hardenbergstr.)\",\n",
    "        \"sumo_sim_files\": [\"CHB_new_params.csv\", \"CHB_default.csv\"],\n",
    "        \"start_rect_coords\": (13.330096,52.51275,13.330786,52.512864),\n",
    "        \"end_rect_coords\": (13.328176,52.508454,13.328866,52.508568)\n",
    "    },\n",
    "    {\n",
    "        \"scenario_name\": \"Prinzenstr (Annenstr. to Moritzplatz)\",\n",
    "        \"sumo_sim_files\": [\"prinzenstr_new_params.csv\", \"prinzenstr_default.csv\"],\n",
    "        \"start_rect_coords\": (13.413598,52.507573,13.414164,52.507822),\n",
    "        \"end_rect_coords\": (13.410895,52.504089,13.411461,52.504338)\n",
    "    },\n",
    "    {\n",
    "        \"scenario_name\": \"Prinzenstr (Dresdener Str. to Sebastianstr.)\",\n",
    "        \"sumo_sim_files\": [\"prinzenstr_new_params.csv\", \"prinzenstr_default.csv\"],\n",
    "        \"start_rect_coords\": (13.412877,52.506571,13.413298,52.506765),\n",
    "        \"end_rect_coords\": (13.411595,52.504951,13.412016,52.505145)\n",
    "    },\n",
    "]"
   ]
  },
  {
   "cell_type": "code",
   "execution_count": null,
   "metadata": {},
   "outputs": [],
   "source": [
    "for comp_data in comparison_data:\n",
    "    print(f\"----- {comp_data['scenario_name']} -----\")\n",
    "    analyze_and_plot_ride_data(get_ride_data(SUMO_SIM_DATA_FOLDER, **comp_data))"
   ]
  }
 ],
 "metadata": {
  "interpreter": {
   "hash": "c152e0cf2e52035031013f23b503d416276e5d8c49aca4157e19c38cb0b6a8e3"
  },
  "kernelspec": {
   "display_name": "Python 3.7.8 64-bit ('adsp_ma-3.7.8': pyenv)",
   "language": "python",
   "name": "python3"
  },
  "language_info": {
   "codemirror_mode": {
    "name": "ipython",
    "version": 3
   },
   "file_extension": ".py",
   "mimetype": "text/x-python",
   "name": "python",
   "nbconvert_exporter": "python",
   "pygments_lexer": "ipython3"
  }
 },
 "nbformat": 4,
 "nbformat_minor": 2
}
