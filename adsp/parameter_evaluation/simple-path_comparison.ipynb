{
 "cells": [
  {
   "cell_type": "code",
   "execution_count": null,
   "metadata": {},
   "outputs": [],
   "source": [
    "from comparison_utils import get_ride_data, analyze_and_plot_ride_data"
   ]
  },
  {
   "cell_type": "code",
   "execution_count": null,
   "metadata": {},
   "outputs": [],
   "source": [
    "SUMO_SIM_DATA_FOLDER = \"./sim_data\""
   ]
  },
  {
   "cell_type": "code",
   "execution_count": null,
   "metadata": {},
   "outputs": [],
   "source": [
    "comparison_data = [\n",
    "    {\n",
    "        \"scenario_name\": \"Frankfurter Allee (Alfredstr. to Ruschestr.)\",\n",
    "        \"sumo_sim_files\": [\"B1_new_params.csv\", \"B1_default.csv\"],\n",
    "        \"start_rect_coords\": (13.489109,52.512004,13.48953,52.512492),\n",
    "        \"end_rect_coords\": (13.484732,52.512494,13.485153,52.512982)\n",
    "    },\n",
    "    {\n",
    "        \"scenario_name\": \"Frankfurter Allee (Rathausstr. to Möllendorfstr.)\",\n",
    "        \"sumo_sim_files\": [\"B1_new_params.csv\", \"B1_default.csv\"],\n",
    "        \"start_rect_coords\": (13.481105,52.513004,13.481526,52.513374),\n",
    "        \"end_rect_coords\": (13.477682,52.513305,13.478103,52.513675)\n",
    "    },\n",
    "    {\n",
    "        \"scenario_name\": \"Einsteinufer (Marchbrücke to Charlotenburger Brücke)\",\n",
    "        \"sumo_sim_files\": [\"CHB_new_params.csv\", \"CHB_default.csv\"],\n",
    "        \"start_rect_coords\": (13.324764,52.516524,13.32511,52.517017),\n",
    "        \"end_rect_coords\": (13.329785,52.513501,13.330475,52.513615)\n",
    "    },\n",
    "    {\n",
    "        \"scenario_name\": \"Einsteinufer (Charlotenburger Brücke to Hardenbergstr.)\",\n",
    "        \"sumo_sim_files\": [\"CHB_new_params.csv\", \"CHB_default.csv\"],\n",
    "        \"start_rect_coords\": (13.330096,52.51275,13.330786,52.512864),\n",
    "        \"end_rect_coords\": (13.328176,52.508454,13.328866,52.508568)\n",
    "    },\n",
    "    {\n",
    "        \"scenario_name\": \"Prinzenstr (Annenstr. to Moritzplatz)\",\n",
    "        \"sumo_sim_files\": [\"prinzenstr_new_params.csv\", \"prinzenstr_default.csv\"],\n",
    "        \"start_rect_coords\": (13.413598,52.507573,13.414164,52.507822),\n",
    "        \"end_rect_coords\": (13.410895,52.504089,13.411461,52.504338)\n",
    "    },\n",
    "    {\n",
    "        \"scenario_name\": \"Prinzenstr (Dresdener Str. to Sebastianstr.)\",\n",
    "        \"sumo_sim_files\": [\"prinzenstr_new_params.csv\", \"prinzenstr_default.csv\"],\n",
    "        \"start_rect_coords\": (13.412877,52.506571,13.413298,52.506765),\n",
    "        \"end_rect_coords\": (13.411595,52.504951,13.412016,52.505145)\n",
    "    },\n",
    "    {\n",
    "        \"scenario_name\": \"Oranienstr (Mariannenstr. to Adalbertstr.)\",\n",
    "        \"sumo_sim_files\": [\"oranienstr_new_params.csv\", \"oranienstr_default.csv\"],\n",
    "        \"start_rect_coords\": (13.422222,52.500212,13.422505,52.500645),\n",
    "        \"end_rect_coords\": (13.419491,52.500976,13.419774,52.501409)\n",
    "    },\n",
    "    {\n",
    "        \"scenario_name\": \"Oranienstr (Adalbertstr. to Oranienplatz)\",\n",
    "        \"sumo_sim_files\": [\"oranienstr_new_params.csv\", \"oranienstr_default.csv\"],\n",
    "        \"start_rect_coords\": (13.418756,52.501182,13.419039,52.501615),\n",
    "        \"end_rect_coords\": (13.416766,52.501724,13.417049,52.502157)\n",
    "    },\n",
    "    {\n",
    "        \"scenario_name\": \"Waldstr. (Turmstr. to Siemensstr.)\",\n",
    "        \"sumo_sim_files\": [\"moabit_new_params.csv\", \"moabit_default.csv\"],\n",
    "        \"start_rect_coords\": (13.329907,52.527466,13.331534,52.527762),\n",
    "        \"end_rect_coords\": (13.331344,52.532257,13.332392,52.532553)\n",
    "    }\n",
    "]"
   ]
  },
  {
   "cell_type": "code",
   "execution_count": null,
   "metadata": {},
   "outputs": [],
   "source": [
    "duration_divergences = {}\n",
    "\n",
    "for comp_data in comparison_data:\n",
    "    scenario_name = comp_data.pop('scenario_name')\n",
    "\n",
    "    print(f\"----- {scenario_name} -----\")\n",
    "    duration_divergences[scenario_name] = analyze_and_plot_ride_data(get_ride_data(SUMO_SIM_DATA_FOLDER, **comp_data))"
   ]
  },
  {
   "cell_type": "code",
   "execution_count": null,
   "metadata": {},
   "outputs": [],
   "source": [
    "duration_divergences"
   ]
  },
  {
   "cell_type": "code",
   "execution_count": null,
   "metadata": {},
   "outputs": [],
   "source": [
    "divergences_default = []\n",
    "divergences_new_params = []\n",
    "\n",
    "for scenario_name, scenario_divergences in duration_divergences.items():\n",
    "    for data_name, divergence in scenario_divergences.items():\n",
    "        if data_name.endswith('_default'):\n",
    "            divergences_default.append(divergence)\n",
    "        elif data_name.endswith('_new_params'):\n",
    "            divergences_new_params.append(divergence)\n",
    "\n",
    "print(divergences_default)\n",
    "print(divergences_new_params)\n"
   ]
  },
  {
   "cell_type": "code",
   "execution_count": null,
   "metadata": {},
   "outputs": [],
   "source": [
    "import matplotlib.pyplot as plt\n",
    "from matplotlib import rc\n",
    "\n",
    "rc('font', **{'family': 'serif', 'serif': ['Computer Modern'], 'size': 16})\n",
    "rc('text', usetex=True)\n",
    "x_values = range(1, len(duration_divergences) + 1)\n",
    "\n",
    "fig, (ax, ax2) = plt.subplots(2, 1, sharex=True, figsize=(12, 6), gridspec_kw={'height_ratios': [5, 1]})\n",
    "# fig, (ax, ax2) = plt.subplots(2, 1, sharex=True, figsize=(12, 6))\n",
    "ax.scatter(x_values, divergences_default, label=\"SUMO default parameters\", color='green')\n",
    "ax.scatter(x_values, divergences_new_params, label=\"SimRa-based re-parameterization\", color='orange')\n",
    "\n",
    "ax2.scatter(x_values, divergences_default, label=\"SUMO default parameters\", color='green')\n",
    "ax2.scatter(x_values, divergences_new_params, label=\"SimRa-based re-parameterization\", color='orange')\n",
    "ax2.set_ylim(bottom=0, top=0.1)\n",
    "\n",
    "d = .015  # how big to make the diagonal lines in axes coordinates\n",
    "# arguments to pass to plot, just so we don't keep repeating them\n",
    "kwargs = dict(transform=ax.transAxes, color='k', clip_on=False)\n",
    "ax.plot((-d, +d), (-d, +d), **kwargs)        # top-left diagonal\n",
    "ax.plot((1 - d, 1 + d), (-d, +d), **kwargs)  # top-right diagonal\n",
    "\n",
    "kwargs.update(transform=ax2.transAxes)  # switch to the bottom axes\n",
    "ax2.plot((-d, +d), (1 - d, 1 + d), **kwargs)  # bottom-left diagonal\n",
    "ax2.plot((1 - d, 1 + d), (1 - d, 1 + d), **kwargs)  # bottom-right diagonal\n",
    "\n",
    "ax.spines['bottom'].set_visible(False)\n",
    "ax2.spines['top'].set_visible(False)\n",
    "ax.xaxis.tick_top()\n",
    "ax.tick_params(labeltop=False)  # don't put tick labels at the top\n",
    "ax2.xaxis.tick_bottom()\n",
    "\n",
    "ax.set_title(\"Jensen–Shannon divergence beteween empirical distributions of ride durations for selected scenarios\")\n",
    "ax2.legend()\n",
    "\n",
    "plt.savefig(\"duration_js_divergence.png\", bbox_inches=\"tight\")\n",
    "plt.show()\n"
   ]
  },
  {
   "cell_type": "code",
   "execution_count": null,
   "metadata": {},
   "outputs": [],
   "source": [
    "from brokenaxes import brokenaxes\n",
    "\n",
    "fig = plt.figure(figsize=(14, 6))\n",
    "bax = brokenaxes(ylims=((0, .1), (.4, .9)), hspace=.2)\n",
    "bax.scatter(x_values, divergences_default, label=\"SUMO default parameters\", color='green', s=80)\n",
    "bax.scatter(x_values, divergences_new_params, label=\"SimRa-based re-parameterization\", color='orange', s=80)\n",
    "\n",
    "bax.legend(loc=3, frameon=True)\n",
    "bax.set_xlabel('Scenario number')\n",
    "bax.set_ylabel('JS divergence from SimRa data')\n",
    "bax.set_title(\"Jensen–Shannon divergence beteween empirical distributions of ride durations for selected scenarios\")\n",
    "\n",
    "plt.savefig(\"duration_js_divergence.png\", bbox_inches=\"tight\")\n",
    "plt.show()"
   ]
  },
  {
   "cell_type": "code",
   "execution_count": null,
   "metadata": {},
   "outputs": [],
   "source": [
    "\n",
    "fig = plt.figure(figsize=(14, 6))\n",
    "\n",
    "plt.bar(x_values, divergences_default, label=\"SUMO default parameters\", color='green', align='edge', width=0.2)\n",
    "plt.bar(x_values, divergences_new_params, label=\"SUMO re-parameterization\", color='orange', align='edge', width=-0.2)\n",
    "\n",
    "plt.xticks(x_values)\n",
    "plt.legend(loc=3, frameon=True)\n",
    "plt.xlabel('Scenario number')\n",
    "plt.ylabel('JS divergence')\n",
    "plt.title(\"Jensen–Shannon (JS) divergence\\n of simulated ride durations from SimRa data\")\n",
    "# fig.suptitle(\"Jensen–Shannon (JS) divergence\")\n",
    "\n",
    "plt.savefig(\"duration_js_divergence.png\", bbox_inches=\"tight\")\n",
    "plt.show()"
   ]
  },
  {
   "cell_type": "code",
   "execution_count": null,
   "metadata": {},
   "outputs": [],
   "source": [
    "from pprint import pprint\n",
    "\n",
    "scenario_number_mapping = {idx +1 : key for idx, key in enumerate(duration_divergences.keys())}\n",
    "\n",
    "pprint(list(scenario_number_mapping.items()))"
   ]
  }
 ],
 "metadata": {
  "interpreter": {
   "hash": "c152e0cf2e52035031013f23b503d416276e5d8c49aca4157e19c38cb0b6a8e3"
  },
  "kernelspec": {
   "display_name": "Python 3.7.8 64-bit ('adsp_ma-3.7.8': pyenv)",
   "language": "python",
   "name": "python3"
  },
  "language_info": {
   "codemirror_mode": {
    "name": "ipython",
    "version": 3
   },
   "file_extension": ".py",
   "mimetype": "text/x-python",
   "name": "python",
   "nbconvert_exporter": "python",
   "pygments_lexer": "ipython3"
  }
 },
 "nbformat": 4,
 "nbformat_minor": 2
}
