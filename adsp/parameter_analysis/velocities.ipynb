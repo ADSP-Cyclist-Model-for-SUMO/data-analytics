{
 "cells": [
  {
   "cell_type": "code",
   "execution_count": null,
   "metadata": {},
   "outputs": [],
   "source": [
    "import sys\n",
    "# add parent directory to sys.path so that python finds the modules\n",
    "sys.path.append('..')\n",
    "\n",
    "import pandas as pd\n",
    "import scipy.stats\n",
    "import numpy as np\n",
    "from matplotlib import pyplot as plt\n",
    "from matplotlib import rc\n",
    "\n",
    "from db_utils import DatabaseConnection"
   ]
  },
  {
   "cell_type": "code",
   "execution_count": null,
   "metadata": {},
   "outputs": [],
   "source": [
    "# Retrieval of v_max. Note: the median of the top 10 velos is calculated per ride to avoid outliers.\n",
    "\n",
    "with DatabaseConnection() as cur:\n",
    "        cur.execute(\"\"\"SELECT filename, PERCENTILE_CONT(0.5) WITHIN GROUP(ORDER BY foo.velo) FROM(\n",
    "                        SELECT clean.filename,\n",
    "                        clean.velo,\n",
    "                        rank() OVER (\n",
    "                                PARTITION BY filename\n",
    "                                ORDER BY velo DESC\n",
    "                                )\n",
    "                        FROM\n",
    "                        (SELECT flat.filename filename,\n",
    "                                flat.velo velo\n",
    "                        FROM\n",
    "                                (SELECT ride.filename,\n",
    "                                        unnest(ride.velos) velo\n",
    "                                FROM ride) as flat\n",
    "                        WHERE NULLIF(flat.velo, 'NaN') IS NOT NULL) as clean) as foo \n",
    "                        WHERE velo < 14 AND velo > 0.1 AND foo.rank <= 10 GROUP BY filename\"\"\")\n",
    "\n",
    "        res = cur.fetchall()\n",
    "\n",
    "df = pd.DataFrame(res, columns=['filename', 'max_v'])\n"
   ]
  },
  {
   "cell_type": "code",
   "execution_count": null,
   "metadata": {},
   "outputs": [],
   "source": [
    "# Normal distribution\n",
    "\n",
    "SUMO_DEFAULT_VALUE = 5.56\n",
    "\n",
    "plt.figure(figsize=(8,8))\n",
    "rc('font', **{'family': 'serif', 'serif': ['Computer Modern'], 'size': 16})\n",
    "rc('text', usetex=True)\n",
    "\n",
    "mean, std = scipy.stats.norm.fit(df.max_v)\n",
    "x = np.linspace(0, 16, 1000)\n",
    "y = scipy.stats.norm.pdf(x, mean, std)\n",
    "plt.plot(x, y, color='orange', linewidth=3, label=\"$\\mathcal{N}$\" + f\"$({mean:.2f}, {std:.2f})$\", alpha=0.5, zorder=2)\n",
    "plt.fill_between(x, y, [0] * len(x), color='orange', alpha=0.5, zorder=2)\n",
    "\n",
    "plt.vlines(SUMO_DEFAULT_VALUE, 0, 1, colors='green', linewidth=3, label=r'$v_{max}^{SUMO}$', zorder=3)\n",
    "\n",
    "plt.hist(df.max_v, bins=65, density=True, label=r'$v_{max}^{SimRa}$', alpha=0.5, zorder=1)\n",
    "\n",
    "plt.xlabel(r'$v_{max}$ in m/s')\n",
    "plt.ylabel('Relative frequency')\n",
    "plt.xlim(1, 15)\n",
    "plt.ylim(0, 0.3)\n",
    "\n",
    "plt.legend()\n",
    "plt.savefig(\"max_velo_analysis.png\", dpi=300, bbox_inches='tight')\n",
    "\n",
    "print(scipy.stats.norm.cdf(mean, std))\n",
    "print(scipy.stats.norm.cdf(mean, std))\n",
    "\n",
    "print(f\"Mean: {mean}, Std: {std}\")\n",
    "print(f\"Median: {df.max_v.median()}\")\n",
    "print(f\"Lower cutoff (0.05 percentile): {scipy.stats.norm.ppf(0.05, mean, std)}\")\n",
    "print(f\"Upper cutoff (0.95 percentile): {scipy.stats.norm.ppf(0.95, mean, std)}\")\n",
    "print(f\"CDF at SUMO default value: {scipy.stats.norm(mean, std).cdf(1.20)}\")\n",
    "\n"
   ]
  }
 ],
 "metadata": {
  "kernelspec": {
   "display_name": "adsp_ma-3.7.8",
   "language": "python",
   "name": "adsp_ma-3.7.8"
  },
  "language_info": {
   "codemirror_mode": {
    "name": "ipython",
    "version": 3
   },
   "file_extension": ".py",
   "mimetype": "text/x-python",
   "name": "python",
   "nbconvert_exporter": "python",
   "pygments_lexer": "ipython3"
  }
 },
 "nbformat": 4,
 "nbformat_minor": 4
}
